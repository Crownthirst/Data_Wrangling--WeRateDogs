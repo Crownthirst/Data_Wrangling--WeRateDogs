{
 "cells": [
  {
   "cell_type": "markdown",
   "metadata": {
    "extensions": {
     "jupyter_dashboards": {
      "version": 1,
      "views": {
       "grid_default": {
        "col": 0,
        "height": 4,
        "hidden": false,
        "row": 0,
        "width": 4
       },
       "report_default": {
        "hidden": false
       }
      }
     }
    }
   },
   "source": [
    "# Project: Data Wrangling - WeRateDogs"
   ]
  },
  {
   "cell_type": "markdown",
   "metadata": {},
   "source": [
    "## Table of Content\n",
    "\n",
    "1. [Introduction](#INTRO)\n",
    "2. [Data Gathering](#DG)\n",
    "3. [Assessing Data](#AD)  \n",
    "    2.1 [Quality issues](#QI)  \n",
    "    2.2 [Tidiness issues](#TI)\n",
    "4. [Data cleaning](#DC)\n",
    "5. [Storing Data](#SD)\n",
    "6. [Analysis and Visualization](#AV)"
   ]
  },
  {
   "cell_type": "markdown",
   "metadata": {},
   "source": [
    "<a id='INTRO'></a>\n",
    "## Introduction\n",
    "\n",
    "Data rarely comes clean\n",
    "\n",
    "This project is aimed at demonstrating my data wrangling/data cleaning skills, using python and it's libraries i will be gathering data from a variety of sources and in a variety of formats, assess its quality and tidiness, then clean it. \n",
    "\n",
    "The dataset i will be wrangling (and analyzing and visualizing) is the tweet archive of Twitter user [@dog_rates](https://twitter.com/dog_rates), also known as WeRateDogs. WeRateDogs is a Twitter account that rates people's dogs with a humorous comment about the dog. These ratings almost always have a denominator of 10. The numerators, though? Almost always greater than 10. 11/10, 12/10, 13/10, etc. Why? Haha, Because they love dogs."
   ]
  },
  {
   "cell_type": "markdown",
   "metadata": {},
   "source": [
    "<a id='DG'></a>\n",
    "## Data Gathering\n",
    "\n",
    "The first step of the wrangling process is data gathering.\n",
    "\n",
    "In this step I will be looking to gather all three pieces of data that will be needed for this project\n",
    "- The first; manually reading in the `twitter-archive-enhanced.csv` data downloaded on my workstation\n",
    "- Programmatically downloading the `image-predictions.tsv` data from the [link](https://d17h27t6h515a5.cloudfront.net/topher/2017/August/599fd2ad_image-predictions/image-predictions.tsv)\n",
    "- And the third being to query Twitter API using the tweet ID in the `twitter-archive-enhanced.csv` data to gather each tweet's JSON data using Python's tweepy library and store each tweets entire set of JSON data in a file called `tweet_json.txt` file.\n",
    "\n",
    "**First we will go ahead to import all the packages we will be needing for this project**"
   ]
  },
  {
   "cell_type": "code",
   "execution_count": 1,
   "metadata": {
    "extensions": {
     "jupyter_dashboards": {
      "version": 1,
      "views": {
       "grid_default": {
        "hidden": true
       },
       "report_default": {
        "hidden": true
       }
      }
     }
    }
   },
   "outputs": [],
   "source": [
    "#import packages\n",
    "import pandas as pd\n",
    "import requests\n",
    "import numpy as np\n",
    "import tweepy\n",
    "import os\n",
    "import json\n",
    "import tweepy\n",
    "import re\n",
    "import matplotlib.pyplot as plt\n",
    "from wordcloud import WordCloud, STOPWORDS"
   ]
  },
  {
   "cell_type": "markdown",
   "metadata": {},
   "source": [
    "As pointed out earlier we manually read in the first dataset already downloaded into a dataframe"
   ]
  },
  {
   "cell_type": "code",
   "execution_count": 2,
   "metadata": {},
   "outputs": [],
   "source": [
    "#read in twitter archive enhanced data our first dataset\n",
    "df_archive = pd.read_csv('twitter-archive-enhanced.csv')"
   ]
  },
  {
   "cell_type": "markdown",
   "metadata": {},
   "source": [
    "Using the Requests library we will programmatically download the `image-predictions.tsv` data online, and save it's content into a tsv file, that will be read into a dataframe later on"
   ]
  },
  {
   "cell_type": "code",
   "execution_count": 3,
   "metadata": {},
   "outputs": [
    {
     "data": {
      "text/plain": [
       "\"\\n#download image prediction data\\nurl = 'https://d17h27t6h515a5.cloudfront.net/topher/2017/August/599fd2ad_image-predictions/image-predictions.tsv'\\nresponse = requests.get(url)\\n\""
      ]
     },
     "execution_count": 3,
     "metadata": {},
     "output_type": "execute_result"
    }
   ],
   "source": [
    "#download image prediction data\n",
    "url = 'https://d17h27t6h515a5.cloudfront.net/topher/2017/August/599fd2ad_image-predictions/image-predictions.tsv'\n",
    "response = requests.get(url)"
   ]
  },
  {
   "cell_type": "code",
   "execution_count": 4,
   "metadata": {},
   "outputs": [
    {
     "data": {
      "text/plain": [
       "\"\\n#Save data into file using response.content\\nwith open(os.path.join(url.split('/')[-1]), mode= 'wb') as file:\\n    file.write(response.content)\\n\""
      ]
     },
     "execution_count": 4,
     "metadata": {},
     "output_type": "execute_result"
    }
   ],
   "source": [
    "#Save data into file using response.content\n",
    "with open(os.path.join(url.split('/')[-1]), mode= 'wb') as file:\n",
    "    file.write(response.content)    "
   ]
  },
  {
   "cell_type": "markdown",
   "metadata": {},
   "source": [
    "\n",
    "Finally using the Tweepy library, I would query additional data via the Twitter API to gather each tweets JSON data and store the contents in the file `tweet_json.txt`"
   ]
  },
  {
   "cell_type": "code",
   "execution_count": 5,
   "metadata": {},
   "outputs": [
    {
     "data": {
      "text/plain": [
       "\"\\n#Set consumer key, secret, and access_token and secret\\n#They will be hidden to comply with Twitter API rules\\nconsumer_key = 'XXXXXXXXXXXXXXXXXXXXX'\\nconsumer_secret = 'XXXXXXXXXXXXXXXXXXXXXXXXXXXXXX'\\naccess_token = 'XXXXXXXXXXXXXXXXXXXXXXXXXXXXXXXXX'\\naccess_secret = 'XXXXXXXXXXXXXXXXXXXXXXXXXXXXXXXX'\\n\\n#Set Authentication\\nauth = tweepy.OAuthHandler(consumer_key, consumer_secret)\\nauth.set_access_token(access_token, access_secret)\\n\\napi = tweepy.API(auth, wait_on_rate_limit= True)\\n\""
      ]
     },
     "execution_count": 5,
     "metadata": {},
     "output_type": "execute_result"
    }
   ],
   "source": [
    "#Set consumer key, secret, and access_token and secret\n",
    "#They will be hidden to comply with Twitter API rules\n",
    "consumer_key = 'XXXXXXXXXXXXXXXXXXXXX'\n",
    "consumer_secret = 'XXXXXXXXXXXXXXXXXXXXXXXXXXXXXX'\n",
    "access_token = 'XXXXXXXXXXXXXXXXXXXXXXXXXXXXXXXXX'\n",
    "access_secret = 'XXXXXXXXXXXXXXXXXXXXXXXXXXXXXXXX'\n",
    "\n",
    "#Set Authentication\n",
    "auth = tweepy.OAuthHandler(consumer_key, consumer_secret)\n",
    "auth.set_access_token(access_token, access_secret)\n",
    "\n",
    "api = tweepy.API(auth, wait_on_rate_limit= True)"
   ]
  },
  {
   "cell_type": "code",
   "execution_count": 6,
   "metadata": {
    "scrolled": false
   },
   "outputs": [
    {
     "data": {
      "text/plain": [
       "\"\\n#Query Twitter's API for JSON data for each tweet id in the dataframe\\n\\nid_of_tweet = df.tweet_id\\ncount = 0\\nfailed = {}\\n#Save output in a newline in a txt file\\nwith open('tweet_json.txt', mode= 'w') as outputfile:\\n    for idx in id_of_tweet:\\n        count += 1\\n        try:\\n            tweet = api.get_status(idx, tweet_mode= 'extended')\\n            json.dump(tweet._json, outputfile)\\n            outputfile.write('\\n')\\n        \\n        except tweepy.errors.TweepyException as e:\\n            print('No Data found')\\n            failed[idx] = e\\n            pass\\nprint(failed)\\n\""
      ]
     },
     "execution_count": 6,
     "metadata": {},
     "output_type": "execute_result"
    }
   ],
   "source": [
    "#Query Twitter's API for JSON data for each tweet id in the dataframe\n",
    "\n",
    "id_of_tweet = df.tweet_id\n",
    "count = 0\n",
    "failed = {}\n",
    "#Save output in a newline in a txt file\n",
    "with open('tweet_json.txt', mode= 'w') as outputfile:\n",
    "    for idx in id_of_tweet:\n",
    "        count += 1\n",
    "        try:\n",
    "            tweet = api.get_status(idx, tweet_mode= 'extended')\n",
    "            json.dump(tweet._json, outputfile)\n",
    "            outputfile.write('\\n')\n",
    "        \n",
    "        except tweepy.errors.TweepyException as e:\n",
    "            print('No Data found')\n",
    "            failed[idx] = e\n",
    "            pass\n",
    "print(failed)"
   ]
  },
  {
   "cell_type": "markdown",
   "metadata": {},
   "source": [
    "Now read the `tweet_json.txt` file by line into a pandas dataframe with variables of interest"
   ]
  },
  {
   "cell_type": "code",
   "execution_count": 7,
   "metadata": {},
   "outputs": [],
   "source": [
    "#extract relevant variables of interest into a list\n",
    "json_list = []\n",
    "with open('tweet_json.txt', mode= 'r') as json_file:\n",
    "    for text in json_file:\n",
    "        texts = json.loads(text)\n",
    "        tweet_id = texts['id']\n",
    "        retweet_count = texts['retweet_count']\n",
    "        favorite_count = texts['favorite_count']\n",
    "        tweet_date = texts['created_at']\n",
    "        tweet_source = texts['source']\n",
    "        json_list.append({'tweet_id' : tweet_id,\n",
    "                       'retweet_count' : retweet_count,\n",
    "                       'favorite_count' : favorite_count})\n",
    "\n",
    "#convert list into a dataframe\n",
    "df_json = pd.DataFrame(json_list, columns = ['tweet_id', 'retweet_count','favorite_count'])"
   ]
  },
  {
   "cell_type": "markdown",
   "metadata": {
    "extensions": {
     "jupyter_dashboards": {
      "version": 1,
      "views": {
       "grid_default": {
        "col": 4,
        "height": 4,
        "hidden": false,
        "row": 28,
        "width": 4
       },
       "report_default": {
        "hidden": false
       }
      }
     }
    }
   },
   "source": [
    "<a id='AD'></a>\n",
    "## Assessing Data\n",
    "Assessing our data is the second and penultimate phase of the data wrangling process.\n",
    "In this section, we will detect and document quality and tidiness issues in our dataset. Detecting quality and tidiness issues can be done either **visually** or **programmatically.**\n",
    "\n",
    "For the purpose of this project we will be documenting at least **eight (8) quality issues and two (2) tidiness issue.** \n",
    "\n",
    "Since we already have the `twitter-archive-enhanced` and the `twitter_json.txt` file read into this notebook in the gathering phase, we recall we only programmatically downloaded the `image-predictions.tsv` data, now we will read it in"
   ]
  },
  {
   "cell_type": "code",
   "execution_count": 8,
   "metadata": {},
   "outputs": [],
   "source": [
    "#read in image predictions dataset\n",
    "df_image = pd.read_csv('image-predictions.tsv', sep= '\\t')"
   ]
  },
  {
   "cell_type": "code",
   "execution_count": 9,
   "metadata": {},
   "outputs": [
    {
     "data": {
      "text/html": [
       "<div>\n",
       "<style scoped>\n",
       "    .dataframe tbody tr th:only-of-type {\n",
       "        vertical-align: middle;\n",
       "    }\n",
       "\n",
       "    .dataframe tbody tr th {\n",
       "        vertical-align: top;\n",
       "    }\n",
       "\n",
       "    .dataframe thead th {\n",
       "        text-align: right;\n",
       "    }\n",
       "</style>\n",
       "<table border=\"1\" class=\"dataframe\">\n",
       "  <thead>\n",
       "    <tr style=\"text-align: right;\">\n",
       "      <th></th>\n",
       "      <th>tweet_id</th>\n",
       "      <th>in_reply_to_status_id</th>\n",
       "      <th>in_reply_to_user_id</th>\n",
       "      <th>timestamp</th>\n",
       "      <th>source</th>\n",
       "      <th>text</th>\n",
       "      <th>retweeted_status_id</th>\n",
       "      <th>retweeted_status_user_id</th>\n",
       "      <th>retweeted_status_timestamp</th>\n",
       "      <th>expanded_urls</th>\n",
       "      <th>rating_numerator</th>\n",
       "      <th>rating_denominator</th>\n",
       "      <th>name</th>\n",
       "      <th>doggo</th>\n",
       "      <th>floofer</th>\n",
       "      <th>pupper</th>\n",
       "      <th>puppo</th>\n",
       "    </tr>\n",
       "  </thead>\n",
       "  <tbody>\n",
       "    <tr>\n",
       "      <th>0</th>\n",
       "      <td>892420643555336193</td>\n",
       "      <td>NaN</td>\n",
       "      <td>NaN</td>\n",
       "      <td>2017-08-01 16:23:56 +0000</td>\n",
       "      <td>&lt;a href=\"http://twitter.com/download/iphone\" r...</td>\n",
       "      <td>This is Phineas. He's a mystical boy. Only eve...</td>\n",
       "      <td>NaN</td>\n",
       "      <td>NaN</td>\n",
       "      <td>NaN</td>\n",
       "      <td>https://twitter.com/dog_rates/status/892420643...</td>\n",
       "      <td>13</td>\n",
       "      <td>10</td>\n",
       "      <td>Phineas</td>\n",
       "      <td>None</td>\n",
       "      <td>None</td>\n",
       "      <td>None</td>\n",
       "      <td>None</td>\n",
       "    </tr>\n",
       "    <tr>\n",
       "      <th>1</th>\n",
       "      <td>892177421306343426</td>\n",
       "      <td>NaN</td>\n",
       "      <td>NaN</td>\n",
       "      <td>2017-08-01 00:17:27 +0000</td>\n",
       "      <td>&lt;a href=\"http://twitter.com/download/iphone\" r...</td>\n",
       "      <td>This is Tilly. She's just checking pup on you....</td>\n",
       "      <td>NaN</td>\n",
       "      <td>NaN</td>\n",
       "      <td>NaN</td>\n",
       "      <td>https://twitter.com/dog_rates/status/892177421...</td>\n",
       "      <td>13</td>\n",
       "      <td>10</td>\n",
       "      <td>Tilly</td>\n",
       "      <td>None</td>\n",
       "      <td>None</td>\n",
       "      <td>None</td>\n",
       "      <td>None</td>\n",
       "    </tr>\n",
       "    <tr>\n",
       "      <th>2</th>\n",
       "      <td>891815181378084864</td>\n",
       "      <td>NaN</td>\n",
       "      <td>NaN</td>\n",
       "      <td>2017-07-31 00:18:03 +0000</td>\n",
       "      <td>&lt;a href=\"http://twitter.com/download/iphone\" r...</td>\n",
       "      <td>This is Archie. He is a rare Norwegian Pouncin...</td>\n",
       "      <td>NaN</td>\n",
       "      <td>NaN</td>\n",
       "      <td>NaN</td>\n",
       "      <td>https://twitter.com/dog_rates/status/891815181...</td>\n",
       "      <td>12</td>\n",
       "      <td>10</td>\n",
       "      <td>Archie</td>\n",
       "      <td>None</td>\n",
       "      <td>None</td>\n",
       "      <td>None</td>\n",
       "      <td>None</td>\n",
       "    </tr>\n",
       "    <tr>\n",
       "      <th>3</th>\n",
       "      <td>891689557279858688</td>\n",
       "      <td>NaN</td>\n",
       "      <td>NaN</td>\n",
       "      <td>2017-07-30 15:58:51 +0000</td>\n",
       "      <td>&lt;a href=\"http://twitter.com/download/iphone\" r...</td>\n",
       "      <td>This is Darla. She commenced a snooze mid meal...</td>\n",
       "      <td>NaN</td>\n",
       "      <td>NaN</td>\n",
       "      <td>NaN</td>\n",
       "      <td>https://twitter.com/dog_rates/status/891689557...</td>\n",
       "      <td>13</td>\n",
       "      <td>10</td>\n",
       "      <td>Darla</td>\n",
       "      <td>None</td>\n",
       "      <td>None</td>\n",
       "      <td>None</td>\n",
       "      <td>None</td>\n",
       "    </tr>\n",
       "    <tr>\n",
       "      <th>4</th>\n",
       "      <td>891327558926688256</td>\n",
       "      <td>NaN</td>\n",
       "      <td>NaN</td>\n",
       "      <td>2017-07-29 16:00:24 +0000</td>\n",
       "      <td>&lt;a href=\"http://twitter.com/download/iphone\" r...</td>\n",
       "      <td>This is Franklin. He would like you to stop ca...</td>\n",
       "      <td>NaN</td>\n",
       "      <td>NaN</td>\n",
       "      <td>NaN</td>\n",
       "      <td>https://twitter.com/dog_rates/status/891327558...</td>\n",
       "      <td>12</td>\n",
       "      <td>10</td>\n",
       "      <td>Franklin</td>\n",
       "      <td>None</td>\n",
       "      <td>None</td>\n",
       "      <td>None</td>\n",
       "      <td>None</td>\n",
       "    </tr>\n",
       "    <tr>\n",
       "      <th>...</th>\n",
       "      <td>...</td>\n",
       "      <td>...</td>\n",
       "      <td>...</td>\n",
       "      <td>...</td>\n",
       "      <td>...</td>\n",
       "      <td>...</td>\n",
       "      <td>...</td>\n",
       "      <td>...</td>\n",
       "      <td>...</td>\n",
       "      <td>...</td>\n",
       "      <td>...</td>\n",
       "      <td>...</td>\n",
       "      <td>...</td>\n",
       "      <td>...</td>\n",
       "      <td>...</td>\n",
       "      <td>...</td>\n",
       "      <td>...</td>\n",
       "    </tr>\n",
       "    <tr>\n",
       "      <th>2351</th>\n",
       "      <td>666049248165822465</td>\n",
       "      <td>NaN</td>\n",
       "      <td>NaN</td>\n",
       "      <td>2015-11-16 00:24:50 +0000</td>\n",
       "      <td>&lt;a href=\"http://twitter.com/download/iphone\" r...</td>\n",
       "      <td>Here we have a 1949 1st generation vulpix. Enj...</td>\n",
       "      <td>NaN</td>\n",
       "      <td>NaN</td>\n",
       "      <td>NaN</td>\n",
       "      <td>https://twitter.com/dog_rates/status/666049248...</td>\n",
       "      <td>5</td>\n",
       "      <td>10</td>\n",
       "      <td>None</td>\n",
       "      <td>None</td>\n",
       "      <td>None</td>\n",
       "      <td>None</td>\n",
       "      <td>None</td>\n",
       "    </tr>\n",
       "    <tr>\n",
       "      <th>2352</th>\n",
       "      <td>666044226329800704</td>\n",
       "      <td>NaN</td>\n",
       "      <td>NaN</td>\n",
       "      <td>2015-11-16 00:04:52 +0000</td>\n",
       "      <td>&lt;a href=\"http://twitter.com/download/iphone\" r...</td>\n",
       "      <td>This is a purebred Piers Morgan. Loves to Netf...</td>\n",
       "      <td>NaN</td>\n",
       "      <td>NaN</td>\n",
       "      <td>NaN</td>\n",
       "      <td>https://twitter.com/dog_rates/status/666044226...</td>\n",
       "      <td>6</td>\n",
       "      <td>10</td>\n",
       "      <td>a</td>\n",
       "      <td>None</td>\n",
       "      <td>None</td>\n",
       "      <td>None</td>\n",
       "      <td>None</td>\n",
       "    </tr>\n",
       "    <tr>\n",
       "      <th>2353</th>\n",
       "      <td>666033412701032449</td>\n",
       "      <td>NaN</td>\n",
       "      <td>NaN</td>\n",
       "      <td>2015-11-15 23:21:54 +0000</td>\n",
       "      <td>&lt;a href=\"http://twitter.com/download/iphone\" r...</td>\n",
       "      <td>Here is a very happy pup. Big fan of well-main...</td>\n",
       "      <td>NaN</td>\n",
       "      <td>NaN</td>\n",
       "      <td>NaN</td>\n",
       "      <td>https://twitter.com/dog_rates/status/666033412...</td>\n",
       "      <td>9</td>\n",
       "      <td>10</td>\n",
       "      <td>a</td>\n",
       "      <td>None</td>\n",
       "      <td>None</td>\n",
       "      <td>None</td>\n",
       "      <td>None</td>\n",
       "    </tr>\n",
       "    <tr>\n",
       "      <th>2354</th>\n",
       "      <td>666029285002620928</td>\n",
       "      <td>NaN</td>\n",
       "      <td>NaN</td>\n",
       "      <td>2015-11-15 23:05:30 +0000</td>\n",
       "      <td>&lt;a href=\"http://twitter.com/download/iphone\" r...</td>\n",
       "      <td>This is a western brown Mitsubishi terrier. Up...</td>\n",
       "      <td>NaN</td>\n",
       "      <td>NaN</td>\n",
       "      <td>NaN</td>\n",
       "      <td>https://twitter.com/dog_rates/status/666029285...</td>\n",
       "      <td>7</td>\n",
       "      <td>10</td>\n",
       "      <td>a</td>\n",
       "      <td>None</td>\n",
       "      <td>None</td>\n",
       "      <td>None</td>\n",
       "      <td>None</td>\n",
       "    </tr>\n",
       "    <tr>\n",
       "      <th>2355</th>\n",
       "      <td>666020888022790149</td>\n",
       "      <td>NaN</td>\n",
       "      <td>NaN</td>\n",
       "      <td>2015-11-15 22:32:08 +0000</td>\n",
       "      <td>&lt;a href=\"http://twitter.com/download/iphone\" r...</td>\n",
       "      <td>Here we have a Japanese Irish Setter. Lost eye...</td>\n",
       "      <td>NaN</td>\n",
       "      <td>NaN</td>\n",
       "      <td>NaN</td>\n",
       "      <td>https://twitter.com/dog_rates/status/666020888...</td>\n",
       "      <td>8</td>\n",
       "      <td>10</td>\n",
       "      <td>None</td>\n",
       "      <td>None</td>\n",
       "      <td>None</td>\n",
       "      <td>None</td>\n",
       "      <td>None</td>\n",
       "    </tr>\n",
       "  </tbody>\n",
       "</table>\n",
       "<p>2356 rows × 17 columns</p>\n",
       "</div>"
      ],
      "text/plain": [
       "                tweet_id  in_reply_to_status_id  in_reply_to_user_id  \\\n",
       "0     892420643555336193                    NaN                  NaN   \n",
       "1     892177421306343426                    NaN                  NaN   \n",
       "2     891815181378084864                    NaN                  NaN   \n",
       "3     891689557279858688                    NaN                  NaN   \n",
       "4     891327558926688256                    NaN                  NaN   \n",
       "...                  ...                    ...                  ...   \n",
       "2351  666049248165822465                    NaN                  NaN   \n",
       "2352  666044226329800704                    NaN                  NaN   \n",
       "2353  666033412701032449                    NaN                  NaN   \n",
       "2354  666029285002620928                    NaN                  NaN   \n",
       "2355  666020888022790149                    NaN                  NaN   \n",
       "\n",
       "                      timestamp  \\\n",
       "0     2017-08-01 16:23:56 +0000   \n",
       "1     2017-08-01 00:17:27 +0000   \n",
       "2     2017-07-31 00:18:03 +0000   \n",
       "3     2017-07-30 15:58:51 +0000   \n",
       "4     2017-07-29 16:00:24 +0000   \n",
       "...                         ...   \n",
       "2351  2015-11-16 00:24:50 +0000   \n",
       "2352  2015-11-16 00:04:52 +0000   \n",
       "2353  2015-11-15 23:21:54 +0000   \n",
       "2354  2015-11-15 23:05:30 +0000   \n",
       "2355  2015-11-15 22:32:08 +0000   \n",
       "\n",
       "                                                 source  \\\n",
       "0     <a href=\"http://twitter.com/download/iphone\" r...   \n",
       "1     <a href=\"http://twitter.com/download/iphone\" r...   \n",
       "2     <a href=\"http://twitter.com/download/iphone\" r...   \n",
       "3     <a href=\"http://twitter.com/download/iphone\" r...   \n",
       "4     <a href=\"http://twitter.com/download/iphone\" r...   \n",
       "...                                                 ...   \n",
       "2351  <a href=\"http://twitter.com/download/iphone\" r...   \n",
       "2352  <a href=\"http://twitter.com/download/iphone\" r...   \n",
       "2353  <a href=\"http://twitter.com/download/iphone\" r...   \n",
       "2354  <a href=\"http://twitter.com/download/iphone\" r...   \n",
       "2355  <a href=\"http://twitter.com/download/iphone\" r...   \n",
       "\n",
       "                                                   text  retweeted_status_id  \\\n",
       "0     This is Phineas. He's a mystical boy. Only eve...                  NaN   \n",
       "1     This is Tilly. She's just checking pup on you....                  NaN   \n",
       "2     This is Archie. He is a rare Norwegian Pouncin...                  NaN   \n",
       "3     This is Darla. She commenced a snooze mid meal...                  NaN   \n",
       "4     This is Franklin. He would like you to stop ca...                  NaN   \n",
       "...                                                 ...                  ...   \n",
       "2351  Here we have a 1949 1st generation vulpix. Enj...                  NaN   \n",
       "2352  This is a purebred Piers Morgan. Loves to Netf...                  NaN   \n",
       "2353  Here is a very happy pup. Big fan of well-main...                  NaN   \n",
       "2354  This is a western brown Mitsubishi terrier. Up...                  NaN   \n",
       "2355  Here we have a Japanese Irish Setter. Lost eye...                  NaN   \n",
       "\n",
       "      retweeted_status_user_id retweeted_status_timestamp  \\\n",
       "0                          NaN                        NaN   \n",
       "1                          NaN                        NaN   \n",
       "2                          NaN                        NaN   \n",
       "3                          NaN                        NaN   \n",
       "4                          NaN                        NaN   \n",
       "...                        ...                        ...   \n",
       "2351                       NaN                        NaN   \n",
       "2352                       NaN                        NaN   \n",
       "2353                       NaN                        NaN   \n",
       "2354                       NaN                        NaN   \n",
       "2355                       NaN                        NaN   \n",
       "\n",
       "                                          expanded_urls  rating_numerator  \\\n",
       "0     https://twitter.com/dog_rates/status/892420643...                13   \n",
       "1     https://twitter.com/dog_rates/status/892177421...                13   \n",
       "2     https://twitter.com/dog_rates/status/891815181...                12   \n",
       "3     https://twitter.com/dog_rates/status/891689557...                13   \n",
       "4     https://twitter.com/dog_rates/status/891327558...                12   \n",
       "...                                                 ...               ...   \n",
       "2351  https://twitter.com/dog_rates/status/666049248...                 5   \n",
       "2352  https://twitter.com/dog_rates/status/666044226...                 6   \n",
       "2353  https://twitter.com/dog_rates/status/666033412...                 9   \n",
       "2354  https://twitter.com/dog_rates/status/666029285...                 7   \n",
       "2355  https://twitter.com/dog_rates/status/666020888...                 8   \n",
       "\n",
       "      rating_denominator      name doggo floofer pupper puppo  \n",
       "0                     10   Phineas  None    None   None  None  \n",
       "1                     10     Tilly  None    None   None  None  \n",
       "2                     10    Archie  None    None   None  None  \n",
       "3                     10     Darla  None    None   None  None  \n",
       "4                     10  Franklin  None    None   None  None  \n",
       "...                  ...       ...   ...     ...    ...   ...  \n",
       "2351                  10      None  None    None   None  None  \n",
       "2352                  10         a  None    None   None  None  \n",
       "2353                  10         a  None    None   None  None  \n",
       "2354                  10         a  None    None   None  None  \n",
       "2355                  10      None  None    None   None  None  \n",
       "\n",
       "[2356 rows x 17 columns]"
      ]
     },
     "execution_count": 9,
     "metadata": {},
     "output_type": "execute_result"
    }
   ],
   "source": [
    "#Visually inspect archived dataset\n",
    "df_archive"
   ]
  },
  {
   "cell_type": "markdown",
   "metadata": {},
   "source": [
    "We can see here that this data contains 2356 rows and 17 columns.\n",
    "\n",
    "Visually inspecting this data we also find that multiple observations in the name column contain values **'a' or 'None'** and these are not dog names. This issue will be looked at and addressed later."
   ]
  },
  {
   "cell_type": "code",
   "execution_count": 10,
   "metadata": {},
   "outputs": [
    {
     "data": {
      "text/html": [
       "<div>\n",
       "<style scoped>\n",
       "    .dataframe tbody tr th:only-of-type {\n",
       "        vertical-align: middle;\n",
       "    }\n",
       "\n",
       "    .dataframe tbody tr th {\n",
       "        vertical-align: top;\n",
       "    }\n",
       "\n",
       "    .dataframe thead th {\n",
       "        text-align: right;\n",
       "    }\n",
       "</style>\n",
       "<table border=\"1\" class=\"dataframe\">\n",
       "  <thead>\n",
       "    <tr style=\"text-align: right;\">\n",
       "      <th></th>\n",
       "      <th>tweet_id</th>\n",
       "      <th>retweet_count</th>\n",
       "      <th>favorite_count</th>\n",
       "    </tr>\n",
       "  </thead>\n",
       "  <tbody>\n",
       "    <tr>\n",
       "      <th>0</th>\n",
       "      <td>892420643555336193</td>\n",
       "      <td>6981</td>\n",
       "      <td>33737</td>\n",
       "    </tr>\n",
       "    <tr>\n",
       "      <th>1</th>\n",
       "      <td>892177421306343426</td>\n",
       "      <td>5284</td>\n",
       "      <td>29265</td>\n",
       "    </tr>\n",
       "    <tr>\n",
       "      <th>2</th>\n",
       "      <td>891815181378084864</td>\n",
       "      <td>3468</td>\n",
       "      <td>22000</td>\n",
       "    </tr>\n",
       "    <tr>\n",
       "      <th>3</th>\n",
       "      <td>891689557279858688</td>\n",
       "      <td>7203</td>\n",
       "      <td>36844</td>\n",
       "    </tr>\n",
       "    <tr>\n",
       "      <th>4</th>\n",
       "      <td>891327558926688256</td>\n",
       "      <td>7727</td>\n",
       "      <td>35231</td>\n",
       "    </tr>\n",
       "    <tr>\n",
       "      <th>...</th>\n",
       "      <td>...</td>\n",
       "      <td>...</td>\n",
       "      <td>...</td>\n",
       "    </tr>\n",
       "    <tr>\n",
       "      <th>2322</th>\n",
       "      <td>666049248165822465</td>\n",
       "      <td>36</td>\n",
       "      <td>88</td>\n",
       "    </tr>\n",
       "    <tr>\n",
       "      <th>2323</th>\n",
       "      <td>666044226329800704</td>\n",
       "      <td>115</td>\n",
       "      <td>246</td>\n",
       "    </tr>\n",
       "    <tr>\n",
       "      <th>2324</th>\n",
       "      <td>666033412701032449</td>\n",
       "      <td>36</td>\n",
       "      <td>100</td>\n",
       "    </tr>\n",
       "    <tr>\n",
       "      <th>2325</th>\n",
       "      <td>666029285002620928</td>\n",
       "      <td>39</td>\n",
       "      <td>112</td>\n",
       "    </tr>\n",
       "    <tr>\n",
       "      <th>2326</th>\n",
       "      <td>666020888022790149</td>\n",
       "      <td>421</td>\n",
       "      <td>2286</td>\n",
       "    </tr>\n",
       "  </tbody>\n",
       "</table>\n",
       "<p>2327 rows × 3 columns</p>\n",
       "</div>"
      ],
      "text/plain": [
       "                tweet_id  retweet_count  favorite_count\n",
       "0     892420643555336193           6981           33737\n",
       "1     892177421306343426           5284           29265\n",
       "2     891815181378084864           3468           22000\n",
       "3     891689557279858688           7203           36844\n",
       "4     891327558926688256           7727           35231\n",
       "...                  ...            ...             ...\n",
       "2322  666049248165822465             36              88\n",
       "2323  666044226329800704            115             246\n",
       "2324  666033412701032449             36             100\n",
       "2325  666029285002620928             39             112\n",
       "2326  666020888022790149            421            2286\n",
       "\n",
       "[2327 rows x 3 columns]"
      ]
     },
     "execution_count": 10,
     "metadata": {},
     "output_type": "execute_result"
    }
   ],
   "source": [
    "#visually inspect API data\n",
    "df_json"
   ]
  },
  {
   "cell_type": "markdown",
   "metadata": {},
   "source": [
    "This data contains 2327 rows with three columns containing our tweet_id, retweet_count and favorite_count scraped twitter API"
   ]
  },
  {
   "cell_type": "code",
   "execution_count": 11,
   "metadata": {},
   "outputs": [
    {
     "data": {
      "text/html": [
       "<div>\n",
       "<style scoped>\n",
       "    .dataframe tbody tr th:only-of-type {\n",
       "        vertical-align: middle;\n",
       "    }\n",
       "\n",
       "    .dataframe tbody tr th {\n",
       "        vertical-align: top;\n",
       "    }\n",
       "\n",
       "    .dataframe thead th {\n",
       "        text-align: right;\n",
       "    }\n",
       "</style>\n",
       "<table border=\"1\" class=\"dataframe\">\n",
       "  <thead>\n",
       "    <tr style=\"text-align: right;\">\n",
       "      <th></th>\n",
       "      <th>tweet_id</th>\n",
       "      <th>jpg_url</th>\n",
       "      <th>img_num</th>\n",
       "      <th>p1</th>\n",
       "      <th>p1_conf</th>\n",
       "      <th>p1_dog</th>\n",
       "      <th>p2</th>\n",
       "      <th>p2_conf</th>\n",
       "      <th>p2_dog</th>\n",
       "      <th>p3</th>\n",
       "      <th>p3_conf</th>\n",
       "      <th>p3_dog</th>\n",
       "    </tr>\n",
       "  </thead>\n",
       "  <tbody>\n",
       "    <tr>\n",
       "      <th>0</th>\n",
       "      <td>666020888022790149</td>\n",
       "      <td>https://pbs.twimg.com/media/CT4udn0WwAA0aMy.jpg</td>\n",
       "      <td>1</td>\n",
       "      <td>Welsh_springer_spaniel</td>\n",
       "      <td>0.465074</td>\n",
       "      <td>True</td>\n",
       "      <td>collie</td>\n",
       "      <td>0.156665</td>\n",
       "      <td>True</td>\n",
       "      <td>Shetland_sheepdog</td>\n",
       "      <td>0.061428</td>\n",
       "      <td>True</td>\n",
       "    </tr>\n",
       "    <tr>\n",
       "      <th>1</th>\n",
       "      <td>666029285002620928</td>\n",
       "      <td>https://pbs.twimg.com/media/CT42GRgUYAA5iDo.jpg</td>\n",
       "      <td>1</td>\n",
       "      <td>redbone</td>\n",
       "      <td>0.506826</td>\n",
       "      <td>True</td>\n",
       "      <td>miniature_pinscher</td>\n",
       "      <td>0.074192</td>\n",
       "      <td>True</td>\n",
       "      <td>Rhodesian_ridgeback</td>\n",
       "      <td>0.072010</td>\n",
       "      <td>True</td>\n",
       "    </tr>\n",
       "    <tr>\n",
       "      <th>2</th>\n",
       "      <td>666033412701032449</td>\n",
       "      <td>https://pbs.twimg.com/media/CT4521TWwAEvMyu.jpg</td>\n",
       "      <td>1</td>\n",
       "      <td>German_shepherd</td>\n",
       "      <td>0.596461</td>\n",
       "      <td>True</td>\n",
       "      <td>malinois</td>\n",
       "      <td>0.138584</td>\n",
       "      <td>True</td>\n",
       "      <td>bloodhound</td>\n",
       "      <td>0.116197</td>\n",
       "      <td>True</td>\n",
       "    </tr>\n",
       "    <tr>\n",
       "      <th>3</th>\n",
       "      <td>666044226329800704</td>\n",
       "      <td>https://pbs.twimg.com/media/CT5Dr8HUEAA-lEu.jpg</td>\n",
       "      <td>1</td>\n",
       "      <td>Rhodesian_ridgeback</td>\n",
       "      <td>0.408143</td>\n",
       "      <td>True</td>\n",
       "      <td>redbone</td>\n",
       "      <td>0.360687</td>\n",
       "      <td>True</td>\n",
       "      <td>miniature_pinscher</td>\n",
       "      <td>0.222752</td>\n",
       "      <td>True</td>\n",
       "    </tr>\n",
       "    <tr>\n",
       "      <th>4</th>\n",
       "      <td>666049248165822465</td>\n",
       "      <td>https://pbs.twimg.com/media/CT5IQmsXIAAKY4A.jpg</td>\n",
       "      <td>1</td>\n",
       "      <td>miniature_pinscher</td>\n",
       "      <td>0.560311</td>\n",
       "      <td>True</td>\n",
       "      <td>Rottweiler</td>\n",
       "      <td>0.243682</td>\n",
       "      <td>True</td>\n",
       "      <td>Doberman</td>\n",
       "      <td>0.154629</td>\n",
       "      <td>True</td>\n",
       "    </tr>\n",
       "    <tr>\n",
       "      <th>...</th>\n",
       "      <td>...</td>\n",
       "      <td>...</td>\n",
       "      <td>...</td>\n",
       "      <td>...</td>\n",
       "      <td>...</td>\n",
       "      <td>...</td>\n",
       "      <td>...</td>\n",
       "      <td>...</td>\n",
       "      <td>...</td>\n",
       "      <td>...</td>\n",
       "      <td>...</td>\n",
       "      <td>...</td>\n",
       "    </tr>\n",
       "    <tr>\n",
       "      <th>2070</th>\n",
       "      <td>891327558926688256</td>\n",
       "      <td>https://pbs.twimg.com/media/DF6hr6BUMAAzZgT.jpg</td>\n",
       "      <td>2</td>\n",
       "      <td>basset</td>\n",
       "      <td>0.555712</td>\n",
       "      <td>True</td>\n",
       "      <td>English_springer</td>\n",
       "      <td>0.225770</td>\n",
       "      <td>True</td>\n",
       "      <td>German_short-haired_pointer</td>\n",
       "      <td>0.175219</td>\n",
       "      <td>True</td>\n",
       "    </tr>\n",
       "    <tr>\n",
       "      <th>2071</th>\n",
       "      <td>891689557279858688</td>\n",
       "      <td>https://pbs.twimg.com/media/DF_q7IAWsAEuuN8.jpg</td>\n",
       "      <td>1</td>\n",
       "      <td>paper_towel</td>\n",
       "      <td>0.170278</td>\n",
       "      <td>False</td>\n",
       "      <td>Labrador_retriever</td>\n",
       "      <td>0.168086</td>\n",
       "      <td>True</td>\n",
       "      <td>spatula</td>\n",
       "      <td>0.040836</td>\n",
       "      <td>False</td>\n",
       "    </tr>\n",
       "    <tr>\n",
       "      <th>2072</th>\n",
       "      <td>891815181378084864</td>\n",
       "      <td>https://pbs.twimg.com/media/DGBdLU1WsAANxJ9.jpg</td>\n",
       "      <td>1</td>\n",
       "      <td>Chihuahua</td>\n",
       "      <td>0.716012</td>\n",
       "      <td>True</td>\n",
       "      <td>malamute</td>\n",
       "      <td>0.078253</td>\n",
       "      <td>True</td>\n",
       "      <td>kelpie</td>\n",
       "      <td>0.031379</td>\n",
       "      <td>True</td>\n",
       "    </tr>\n",
       "    <tr>\n",
       "      <th>2073</th>\n",
       "      <td>892177421306343426</td>\n",
       "      <td>https://pbs.twimg.com/media/DGGmoV4XsAAUL6n.jpg</td>\n",
       "      <td>1</td>\n",
       "      <td>Chihuahua</td>\n",
       "      <td>0.323581</td>\n",
       "      <td>True</td>\n",
       "      <td>Pekinese</td>\n",
       "      <td>0.090647</td>\n",
       "      <td>True</td>\n",
       "      <td>papillon</td>\n",
       "      <td>0.068957</td>\n",
       "      <td>True</td>\n",
       "    </tr>\n",
       "    <tr>\n",
       "      <th>2074</th>\n",
       "      <td>892420643555336193</td>\n",
       "      <td>https://pbs.twimg.com/media/DGKD1-bXoAAIAUK.jpg</td>\n",
       "      <td>1</td>\n",
       "      <td>orange</td>\n",
       "      <td>0.097049</td>\n",
       "      <td>False</td>\n",
       "      <td>bagel</td>\n",
       "      <td>0.085851</td>\n",
       "      <td>False</td>\n",
       "      <td>banana</td>\n",
       "      <td>0.076110</td>\n",
       "      <td>False</td>\n",
       "    </tr>\n",
       "  </tbody>\n",
       "</table>\n",
       "<p>2075 rows × 12 columns</p>\n",
       "</div>"
      ],
      "text/plain": [
       "                tweet_id                                          jpg_url  \\\n",
       "0     666020888022790149  https://pbs.twimg.com/media/CT4udn0WwAA0aMy.jpg   \n",
       "1     666029285002620928  https://pbs.twimg.com/media/CT42GRgUYAA5iDo.jpg   \n",
       "2     666033412701032449  https://pbs.twimg.com/media/CT4521TWwAEvMyu.jpg   \n",
       "3     666044226329800704  https://pbs.twimg.com/media/CT5Dr8HUEAA-lEu.jpg   \n",
       "4     666049248165822465  https://pbs.twimg.com/media/CT5IQmsXIAAKY4A.jpg   \n",
       "...                  ...                                              ...   \n",
       "2070  891327558926688256  https://pbs.twimg.com/media/DF6hr6BUMAAzZgT.jpg   \n",
       "2071  891689557279858688  https://pbs.twimg.com/media/DF_q7IAWsAEuuN8.jpg   \n",
       "2072  891815181378084864  https://pbs.twimg.com/media/DGBdLU1WsAANxJ9.jpg   \n",
       "2073  892177421306343426  https://pbs.twimg.com/media/DGGmoV4XsAAUL6n.jpg   \n",
       "2074  892420643555336193  https://pbs.twimg.com/media/DGKD1-bXoAAIAUK.jpg   \n",
       "\n",
       "      img_num                      p1   p1_conf  p1_dog                  p2  \\\n",
       "0           1  Welsh_springer_spaniel  0.465074    True              collie   \n",
       "1           1                 redbone  0.506826    True  miniature_pinscher   \n",
       "2           1         German_shepherd  0.596461    True            malinois   \n",
       "3           1     Rhodesian_ridgeback  0.408143    True             redbone   \n",
       "4           1      miniature_pinscher  0.560311    True          Rottweiler   \n",
       "...       ...                     ...       ...     ...                 ...   \n",
       "2070        2                  basset  0.555712    True    English_springer   \n",
       "2071        1             paper_towel  0.170278   False  Labrador_retriever   \n",
       "2072        1               Chihuahua  0.716012    True            malamute   \n",
       "2073        1               Chihuahua  0.323581    True            Pekinese   \n",
       "2074        1                  orange  0.097049   False               bagel   \n",
       "\n",
       "       p2_conf  p2_dog                           p3   p3_conf  p3_dog  \n",
       "0     0.156665    True            Shetland_sheepdog  0.061428    True  \n",
       "1     0.074192    True          Rhodesian_ridgeback  0.072010    True  \n",
       "2     0.138584    True                   bloodhound  0.116197    True  \n",
       "3     0.360687    True           miniature_pinscher  0.222752    True  \n",
       "4     0.243682    True                     Doberman  0.154629    True  \n",
       "...        ...     ...                          ...       ...     ...  \n",
       "2070  0.225770    True  German_short-haired_pointer  0.175219    True  \n",
       "2071  0.168086    True                      spatula  0.040836   False  \n",
       "2072  0.078253    True                       kelpie  0.031379    True  \n",
       "2073  0.090647    True                     papillon  0.068957    True  \n",
       "2074  0.085851   False                       banana  0.076110   False  \n",
       "\n",
       "[2075 rows x 12 columns]"
      ]
     },
     "execution_count": 11,
     "metadata": {},
     "output_type": "execute_result"
    }
   ],
   "source": [
    "#visually inspect image prediction dataset\n",
    "df_image"
   ]
  },
  {
   "cell_type": "markdown",
   "metadata": {},
   "source": [
    "The `image_prediction` data contains 2075 rows and 12 different columns, the main highlight of this data being p1 and p1_conf which stands for **prediction 1** and **prediction 1 confidence** respectively, which are used to predict which breed a dog belongs to.\n",
    "\n",
    "\n",
    "Visual inspection will continue by sampling random observations to check for quality and tidiness issues."
   ]
  },
  {
   "cell_type": "code",
   "execution_count": 12,
   "metadata": {},
   "outputs": [
    {
     "data": {
      "text/html": [
       "<div>\n",
       "<style scoped>\n",
       "    .dataframe tbody tr th:only-of-type {\n",
       "        vertical-align: middle;\n",
       "    }\n",
       "\n",
       "    .dataframe tbody tr th {\n",
       "        vertical-align: top;\n",
       "    }\n",
       "\n",
       "    .dataframe thead th {\n",
       "        text-align: right;\n",
       "    }\n",
       "</style>\n",
       "<table border=\"1\" class=\"dataframe\">\n",
       "  <thead>\n",
       "    <tr style=\"text-align: right;\">\n",
       "      <th></th>\n",
       "      <th>tweet_id</th>\n",
       "      <th>in_reply_to_status_id</th>\n",
       "      <th>in_reply_to_user_id</th>\n",
       "      <th>timestamp</th>\n",
       "      <th>source</th>\n",
       "      <th>text</th>\n",
       "      <th>retweeted_status_id</th>\n",
       "      <th>retweeted_status_user_id</th>\n",
       "      <th>retweeted_status_timestamp</th>\n",
       "      <th>expanded_urls</th>\n",
       "      <th>rating_numerator</th>\n",
       "      <th>rating_denominator</th>\n",
       "      <th>name</th>\n",
       "      <th>doggo</th>\n",
       "      <th>floofer</th>\n",
       "      <th>pupper</th>\n",
       "      <th>puppo</th>\n",
       "    </tr>\n",
       "  </thead>\n",
       "  <tbody>\n",
       "    <tr>\n",
       "      <th>906</th>\n",
       "      <td>758041019896193024</td>\n",
       "      <td>NaN</td>\n",
       "      <td>NaN</td>\n",
       "      <td>2016-07-26 20:47:17 +0000</td>\n",
       "      <td>&lt;a href=\"http://twitter.com/download/iphone\" r...</td>\n",
       "      <td>Teagan reads entire books in store so they're ...</td>\n",
       "      <td>NaN</td>\n",
       "      <td>NaN</td>\n",
       "      <td>NaN</td>\n",
       "      <td>https://twitter.com/dog_rates/status/758041019...</td>\n",
       "      <td>9</td>\n",
       "      <td>10</td>\n",
       "      <td>None</td>\n",
       "      <td>None</td>\n",
       "      <td>None</td>\n",
       "      <td>None</td>\n",
       "      <td>None</td>\n",
       "    </tr>\n",
       "    <tr>\n",
       "      <th>2315</th>\n",
       "      <td>666691418707132416</td>\n",
       "      <td>NaN</td>\n",
       "      <td>NaN</td>\n",
       "      <td>2015-11-17 18:56:35 +0000</td>\n",
       "      <td>&lt;a href=\"http://twitter.com/download/iphone\" r...</td>\n",
       "      <td>This is Christoper. He is a spotted Penne. Can...</td>\n",
       "      <td>NaN</td>\n",
       "      <td>NaN</td>\n",
       "      <td>NaN</td>\n",
       "      <td>https://twitter.com/dog_rates/status/666691418...</td>\n",
       "      <td>8</td>\n",
       "      <td>10</td>\n",
       "      <td>Christoper</td>\n",
       "      <td>None</td>\n",
       "      <td>None</td>\n",
       "      <td>None</td>\n",
       "      <td>None</td>\n",
       "    </tr>\n",
       "    <tr>\n",
       "      <th>799</th>\n",
       "      <td>772826264096874500</td>\n",
       "      <td>NaN</td>\n",
       "      <td>NaN</td>\n",
       "      <td>2016-09-05 15:58:34 +0000</td>\n",
       "      <td>&lt;a href=\"http://twitter.com/download/iphone\" r...</td>\n",
       "      <td>Meet Roosevelt. He's preparing for takeoff. Ma...</td>\n",
       "      <td>NaN</td>\n",
       "      <td>NaN</td>\n",
       "      <td>NaN</td>\n",
       "      <td>https://twitter.com/dog_rates/status/772826264...</td>\n",
       "      <td>11</td>\n",
       "      <td>10</td>\n",
       "      <td>Roosevelt</td>\n",
       "      <td>None</td>\n",
       "      <td>None</td>\n",
       "      <td>None</td>\n",
       "      <td>None</td>\n",
       "    </tr>\n",
       "    <tr>\n",
       "      <th>937</th>\n",
       "      <td>753298634498793472</td>\n",
       "      <td>NaN</td>\n",
       "      <td>NaN</td>\n",
       "      <td>2016-07-13 18:42:44 +0000</td>\n",
       "      <td>&lt;a href=\"http://twitter.com/download/iphone\" r...</td>\n",
       "      <td>RT @dog_rates: This is Carly. She's actually 2...</td>\n",
       "      <td>6.815232e+17</td>\n",
       "      <td>4.196984e+09</td>\n",
       "      <td>2015-12-28 17:12:42 +0000</td>\n",
       "      <td>https://twitter.com/dog_rates/status/681523177...</td>\n",
       "      <td>12</td>\n",
       "      <td>10</td>\n",
       "      <td>Carly</td>\n",
       "      <td>None</td>\n",
       "      <td>None</td>\n",
       "      <td>None</td>\n",
       "      <td>None</td>\n",
       "    </tr>\n",
       "    <tr>\n",
       "      <th>1500</th>\n",
       "      <td>692158366030913536</td>\n",
       "      <td>NaN</td>\n",
       "      <td>NaN</td>\n",
       "      <td>2016-01-27 01:33:08 +0000</td>\n",
       "      <td>&lt;a href=\"http://twitter.com/download/iphone\" r...</td>\n",
       "      <td>This is Edgar. He's a Sassafras Puggleflash. N...</td>\n",
       "      <td>NaN</td>\n",
       "      <td>NaN</td>\n",
       "      <td>NaN</td>\n",
       "      <td>https://twitter.com/dog_rates/status/692158366...</td>\n",
       "      <td>10</td>\n",
       "      <td>10</td>\n",
       "      <td>Edgar</td>\n",
       "      <td>None</td>\n",
       "      <td>None</td>\n",
       "      <td>None</td>\n",
       "      <td>None</td>\n",
       "    </tr>\n",
       "  </tbody>\n",
       "</table>\n",
       "</div>"
      ],
      "text/plain": [
       "                tweet_id  in_reply_to_status_id  in_reply_to_user_id  \\\n",
       "906   758041019896193024                    NaN                  NaN   \n",
       "2315  666691418707132416                    NaN                  NaN   \n",
       "799   772826264096874500                    NaN                  NaN   \n",
       "937   753298634498793472                    NaN                  NaN   \n",
       "1500  692158366030913536                    NaN                  NaN   \n",
       "\n",
       "                      timestamp  \\\n",
       "906   2016-07-26 20:47:17 +0000   \n",
       "2315  2015-11-17 18:56:35 +0000   \n",
       "799   2016-09-05 15:58:34 +0000   \n",
       "937   2016-07-13 18:42:44 +0000   \n",
       "1500  2016-01-27 01:33:08 +0000   \n",
       "\n",
       "                                                 source  \\\n",
       "906   <a href=\"http://twitter.com/download/iphone\" r...   \n",
       "2315  <a href=\"http://twitter.com/download/iphone\" r...   \n",
       "799   <a href=\"http://twitter.com/download/iphone\" r...   \n",
       "937   <a href=\"http://twitter.com/download/iphone\" r...   \n",
       "1500  <a href=\"http://twitter.com/download/iphone\" r...   \n",
       "\n",
       "                                                   text  retweeted_status_id  \\\n",
       "906   Teagan reads entire books in store so they're ...                  NaN   \n",
       "2315  This is Christoper. He is a spotted Penne. Can...                  NaN   \n",
       "799   Meet Roosevelt. He's preparing for takeoff. Ma...                  NaN   \n",
       "937   RT @dog_rates: This is Carly. She's actually 2...         6.815232e+17   \n",
       "1500  This is Edgar. He's a Sassafras Puggleflash. N...                  NaN   \n",
       "\n",
       "      retweeted_status_user_id retweeted_status_timestamp  \\\n",
       "906                        NaN                        NaN   \n",
       "2315                       NaN                        NaN   \n",
       "799                        NaN                        NaN   \n",
       "937               4.196984e+09  2015-12-28 17:12:42 +0000   \n",
       "1500                       NaN                        NaN   \n",
       "\n",
       "                                          expanded_urls  rating_numerator  \\\n",
       "906   https://twitter.com/dog_rates/status/758041019...                 9   \n",
       "2315  https://twitter.com/dog_rates/status/666691418...                 8   \n",
       "799   https://twitter.com/dog_rates/status/772826264...                11   \n",
       "937   https://twitter.com/dog_rates/status/681523177...                12   \n",
       "1500  https://twitter.com/dog_rates/status/692158366...                10   \n",
       "\n",
       "      rating_denominator        name doggo floofer pupper puppo  \n",
       "906                   10        None  None    None   None  None  \n",
       "2315                  10  Christoper  None    None   None  None  \n",
       "799                   10   Roosevelt  None    None   None  None  \n",
       "937                   10       Carly  None    None   None  None  \n",
       "1500                  10       Edgar  None    None   None  None  "
      ]
     },
     "execution_count": 12,
     "metadata": {},
     "output_type": "execute_result"
    }
   ],
   "source": [
    "#sample archive data\n",
    "df_archive.sample(5)"
   ]
  },
  {
   "cell_type": "code",
   "execution_count": 13,
   "metadata": {},
   "outputs": [
    {
     "data": {
      "text/html": [
       "<div>\n",
       "<style scoped>\n",
       "    .dataframe tbody tr th:only-of-type {\n",
       "        vertical-align: middle;\n",
       "    }\n",
       "\n",
       "    .dataframe tbody tr th {\n",
       "        vertical-align: top;\n",
       "    }\n",
       "\n",
       "    .dataframe thead th {\n",
       "        text-align: right;\n",
       "    }\n",
       "</style>\n",
       "<table border=\"1\" class=\"dataframe\">\n",
       "  <thead>\n",
       "    <tr style=\"text-align: right;\">\n",
       "      <th></th>\n",
       "      <th>tweet_id</th>\n",
       "      <th>jpg_url</th>\n",
       "      <th>img_num</th>\n",
       "      <th>p1</th>\n",
       "      <th>p1_conf</th>\n",
       "      <th>p1_dog</th>\n",
       "      <th>p2</th>\n",
       "      <th>p2_conf</th>\n",
       "      <th>p2_dog</th>\n",
       "      <th>p3</th>\n",
       "      <th>p3_conf</th>\n",
       "      <th>p3_dog</th>\n",
       "    </tr>\n",
       "  </thead>\n",
       "  <tbody>\n",
       "    <tr>\n",
       "      <th>981</th>\n",
       "      <td>707377100785885184</td>\n",
       "      <td>https://pbs.twimg.com/media/CdEbt0NXIAQH3Aa.jpg</td>\n",
       "      <td>1</td>\n",
       "      <td>golden_retriever</td>\n",
       "      <td>0.637225</td>\n",
       "      <td>True</td>\n",
       "      <td>bloodhound</td>\n",
       "      <td>0.094542</td>\n",
       "      <td>True</td>\n",
       "      <td>cocker_spaniel</td>\n",
       "      <td>0.069797</td>\n",
       "      <td>True</td>\n",
       "    </tr>\n",
       "    <tr>\n",
       "      <th>1097</th>\n",
       "      <td>720340705894408192</td>\n",
       "      <td>https://pbs.twimg.com/media/Cf8qDFbWwAEf8M3.jpg</td>\n",
       "      <td>1</td>\n",
       "      <td>alp</td>\n",
       "      <td>0.320126</td>\n",
       "      <td>False</td>\n",
       "      <td>lawn_mower</td>\n",
       "      <td>0.080808</td>\n",
       "      <td>False</td>\n",
       "      <td>viaduct</td>\n",
       "      <td>0.065321</td>\n",
       "      <td>False</td>\n",
       "    </tr>\n",
       "    <tr>\n",
       "      <th>1124</th>\n",
       "      <td>727286334147182592</td>\n",
       "      <td>https://pbs.twimg.com/media/ChfXDrGUkAEAtF-.jpg</td>\n",
       "      <td>1</td>\n",
       "      <td>bonnet</td>\n",
       "      <td>0.146440</td>\n",
       "      <td>False</td>\n",
       "      <td>sock</td>\n",
       "      <td>0.083091</td>\n",
       "      <td>False</td>\n",
       "      <td>Chihuahua</td>\n",
       "      <td>0.070554</td>\n",
       "      <td>True</td>\n",
       "    </tr>\n",
       "    <tr>\n",
       "      <th>1785</th>\n",
       "      <td>829374341691346946</td>\n",
       "      <td>https://pbs.twimg.com/media/C4KHj-nWQAA3poV.jpg</td>\n",
       "      <td>1</td>\n",
       "      <td>Staffordshire_bullterrier</td>\n",
       "      <td>0.757547</td>\n",
       "      <td>True</td>\n",
       "      <td>American_Staffordshire_terrier</td>\n",
       "      <td>0.149950</td>\n",
       "      <td>True</td>\n",
       "      <td>Chesapeake_Bay_retriever</td>\n",
       "      <td>0.047523</td>\n",
       "      <td>True</td>\n",
       "    </tr>\n",
       "    <tr>\n",
       "      <th>394</th>\n",
       "      <td>673612854080196609</td>\n",
       "      <td>https://pbs.twimg.com/media/CVknUTlVEAARjU5.jpg</td>\n",
       "      <td>1</td>\n",
       "      <td>Newfoundland</td>\n",
       "      <td>0.223101</td>\n",
       "      <td>True</td>\n",
       "      <td>Leonberg</td>\n",
       "      <td>0.111106</td>\n",
       "      <td>True</td>\n",
       "      <td>shovel</td>\n",
       "      <td>0.085626</td>\n",
       "      <td>False</td>\n",
       "    </tr>\n",
       "  </tbody>\n",
       "</table>\n",
       "</div>"
      ],
      "text/plain": [
       "                tweet_id                                          jpg_url  \\\n",
       "981   707377100785885184  https://pbs.twimg.com/media/CdEbt0NXIAQH3Aa.jpg   \n",
       "1097  720340705894408192  https://pbs.twimg.com/media/Cf8qDFbWwAEf8M3.jpg   \n",
       "1124  727286334147182592  https://pbs.twimg.com/media/ChfXDrGUkAEAtF-.jpg   \n",
       "1785  829374341691346946  https://pbs.twimg.com/media/C4KHj-nWQAA3poV.jpg   \n",
       "394   673612854080196609  https://pbs.twimg.com/media/CVknUTlVEAARjU5.jpg   \n",
       "\n",
       "      img_num                         p1   p1_conf  p1_dog  \\\n",
       "981         1           golden_retriever  0.637225    True   \n",
       "1097        1                        alp  0.320126   False   \n",
       "1124        1                     bonnet  0.146440   False   \n",
       "1785        1  Staffordshire_bullterrier  0.757547    True   \n",
       "394         1               Newfoundland  0.223101    True   \n",
       "\n",
       "                                  p2   p2_conf  p2_dog  \\\n",
       "981                       bloodhound  0.094542    True   \n",
       "1097                      lawn_mower  0.080808   False   \n",
       "1124                            sock  0.083091   False   \n",
       "1785  American_Staffordshire_terrier  0.149950    True   \n",
       "394                         Leonberg  0.111106    True   \n",
       "\n",
       "                            p3   p3_conf  p3_dog  \n",
       "981             cocker_spaniel  0.069797    True  \n",
       "1097                   viaduct  0.065321   False  \n",
       "1124                 Chihuahua  0.070554    True  \n",
       "1785  Chesapeake_Bay_retriever  0.047523    True  \n",
       "394                     shovel  0.085626   False  "
      ]
     },
     "execution_count": 13,
     "metadata": {},
     "output_type": "execute_result"
    }
   ],
   "source": [
    "#sample image prediction data\n",
    "df_image.sample(5)"
   ]
  },
  {
   "cell_type": "code",
   "execution_count": 14,
   "metadata": {},
   "outputs": [
    {
     "data": {
      "text/html": [
       "<div>\n",
       "<style scoped>\n",
       "    .dataframe tbody tr th:only-of-type {\n",
       "        vertical-align: middle;\n",
       "    }\n",
       "\n",
       "    .dataframe tbody tr th {\n",
       "        vertical-align: top;\n",
       "    }\n",
       "\n",
       "    .dataframe thead th {\n",
       "        text-align: right;\n",
       "    }\n",
       "</style>\n",
       "<table border=\"1\" class=\"dataframe\">\n",
       "  <thead>\n",
       "    <tr style=\"text-align: right;\">\n",
       "      <th></th>\n",
       "      <th>tweet_id</th>\n",
       "      <th>retweet_count</th>\n",
       "      <th>favorite_count</th>\n",
       "    </tr>\n",
       "  </thead>\n",
       "  <tbody>\n",
       "    <tr>\n",
       "      <th>1783</th>\n",
       "      <td>676811746707918848</td>\n",
       "      <td>379</td>\n",
       "      <td>1305</td>\n",
       "    </tr>\n",
       "    <tr>\n",
       "      <th>763</th>\n",
       "      <td>775085132600442880</td>\n",
       "      <td>4361</td>\n",
       "      <td>14604</td>\n",
       "    </tr>\n",
       "    <tr>\n",
       "      <th>927</th>\n",
       "      <td>751598357617971201</td>\n",
       "      <td>2829</td>\n",
       "      <td>7397</td>\n",
       "    </tr>\n",
       "    <tr>\n",
       "      <th>1400</th>\n",
       "      <td>697616773278015490</td>\n",
       "      <td>921</td>\n",
       "      <td>2891</td>\n",
       "    </tr>\n",
       "    <tr>\n",
       "      <th>561</th>\n",
       "      <td>800443802682937345</td>\n",
       "      <td>4012</td>\n",
       "      <td>0</td>\n",
       "    </tr>\n",
       "  </tbody>\n",
       "</table>\n",
       "</div>"
      ],
      "text/plain": [
       "                tweet_id  retweet_count  favorite_count\n",
       "1783  676811746707918848            379            1305\n",
       "763   775085132600442880           4361           14604\n",
       "927   751598357617971201           2829            7397\n",
       "1400  697616773278015490            921            2891\n",
       "561   800443802682937345           4012               0"
      ]
     },
     "execution_count": 14,
     "metadata": {},
     "output_type": "execute_result"
    }
   ],
   "source": [
    "#sample API data\n",
    "df_json.sample(5)"
   ]
  },
  {
   "cell_type": "markdown",
   "metadata": {},
   "source": [
    "After visual inspection we will move to programmatically inspect each dataframe, to get a feel of what the structure and data types in our data looks like and whether they are in the right format."
   ]
  },
  {
   "cell_type": "code",
   "execution_count": 15,
   "metadata": {},
   "outputs": [
    {
     "name": "stdout",
     "output_type": "stream",
     "text": [
      "<class 'pandas.core.frame.DataFrame'>\n",
      "RangeIndex: 2356 entries, 0 to 2355\n",
      "Data columns (total 17 columns):\n",
      " #   Column                      Non-Null Count  Dtype  \n",
      "---  ------                      --------------  -----  \n",
      " 0   tweet_id                    2356 non-null   int64  \n",
      " 1   in_reply_to_status_id       78 non-null     float64\n",
      " 2   in_reply_to_user_id         78 non-null     float64\n",
      " 3   timestamp                   2356 non-null   object \n",
      " 4   source                      2356 non-null   object \n",
      " 5   text                        2356 non-null   object \n",
      " 6   retweeted_status_id         181 non-null    float64\n",
      " 7   retweeted_status_user_id    181 non-null    float64\n",
      " 8   retweeted_status_timestamp  181 non-null    object \n",
      " 9   expanded_urls               2297 non-null   object \n",
      " 10  rating_numerator            2356 non-null   int64  \n",
      " 11  rating_denominator          2356 non-null   int64  \n",
      " 12  name                        2356 non-null   object \n",
      " 13  doggo                       2356 non-null   object \n",
      " 14  floofer                     2356 non-null   object \n",
      " 15  pupper                      2356 non-null   object \n",
      " 16  puppo                       2356 non-null   object \n",
      "dtypes: float64(4), int64(3), object(10)\n",
      "memory usage: 313.0+ KB\n"
     ]
    }
   ],
   "source": [
    "#Check archive data for quality and structural issues\n",
    "df_archive.info()"
   ]
  },
  {
   "cell_type": "code",
   "execution_count": 16,
   "metadata": {},
   "outputs": [
    {
     "name": "stdout",
     "output_type": "stream",
     "text": [
      "<class 'pandas.core.frame.DataFrame'>\n",
      "RangeIndex: 2075 entries, 0 to 2074\n",
      "Data columns (total 12 columns):\n",
      " #   Column    Non-Null Count  Dtype  \n",
      "---  ------    --------------  -----  \n",
      " 0   tweet_id  2075 non-null   int64  \n",
      " 1   jpg_url   2075 non-null   object \n",
      " 2   img_num   2075 non-null   int64  \n",
      " 3   p1        2075 non-null   object \n",
      " 4   p1_conf   2075 non-null   float64\n",
      " 5   p1_dog    2075 non-null   bool   \n",
      " 6   p2        2075 non-null   object \n",
      " 7   p2_conf   2075 non-null   float64\n",
      " 8   p2_dog    2075 non-null   bool   \n",
      " 9   p3        2075 non-null   object \n",
      " 10  p3_conf   2075 non-null   float64\n",
      " 11  p3_dog    2075 non-null   bool   \n",
      "dtypes: bool(3), float64(3), int64(2), object(4)\n",
      "memory usage: 152.1+ KB\n"
     ]
    }
   ],
   "source": [
    "##Check image prediction data for quality and structural issues\n",
    "df_image.info()"
   ]
  },
  {
   "cell_type": "code",
   "execution_count": 17,
   "metadata": {},
   "outputs": [
    {
     "name": "stdout",
     "output_type": "stream",
     "text": [
      "<class 'pandas.core.frame.DataFrame'>\n",
      "RangeIndex: 2327 entries, 0 to 2326\n",
      "Data columns (total 3 columns):\n",
      " #   Column          Non-Null Count  Dtype\n",
      "---  ------          --------------  -----\n",
      " 0   tweet_id        2327 non-null   int64\n",
      " 1   retweet_count   2327 non-null   int64\n",
      " 2   favorite_count  2327 non-null   int64\n",
      "dtypes: int64(3)\n",
      "memory usage: 54.7 KB\n"
     ]
    }
   ],
   "source": [
    "#Check API data for quality and structural issues\n",
    "df_json.info()"
   ]
  },
  {
   "cell_type": "code",
   "execution_count": 18,
   "metadata": {},
   "outputs": [
    {
     "data": {
      "text/plain": [
       "0"
      ]
     },
     "execution_count": 18,
     "metadata": {},
     "output_type": "execute_result"
    }
   ],
   "source": [
    "#check for duplicates in the archive data\n",
    "df_archive.duplicated().sum()"
   ]
  },
  {
   "cell_type": "code",
   "execution_count": 19,
   "metadata": {},
   "outputs": [
    {
     "data": {
      "text/plain": [
       "0"
      ]
     },
     "execution_count": 19,
     "metadata": {},
     "output_type": "execute_result"
    }
   ],
   "source": [
    "#check for duplicates in the image prediction data\n",
    "df_image.duplicated().sum()"
   ]
  },
  {
   "cell_type": "code",
   "execution_count": 20,
   "metadata": {},
   "outputs": [
    {
     "data": {
      "text/plain": [
       "0"
      ]
     },
     "execution_count": 20,
     "metadata": {},
     "output_type": "execute_result"
    }
   ],
   "source": [
    "#check for duplicates in the API data\n",
    "df_json.duplicated().sum()"
   ]
  },
  {
   "cell_type": "code",
   "execution_count": 21,
   "metadata": {},
   "outputs": [
    {
     "data": {
      "text/plain": [
       "array(['Welsh_springer_spaniel', 'redbone', 'German_shepherd',\n",
       "       'Rhodesian_ridgeback', 'miniature_pinscher',\n",
       "       'Bernese_mountain_dog', 'box_turtle', 'chow', 'shopping_cart',\n",
       "       'miniature_poodle', 'golden_retriever', 'Gordon_setter',\n",
       "       'Walker_hound', 'pug', 'bloodhound', 'Lhasa', 'English_setter',\n",
       "       'hen', 'desktop_computer', 'Italian_greyhound', 'Maltese_dog',\n",
       "       'three-toed_sloth', 'ox', 'malamute', 'guinea_pig',\n",
       "       'soft-coated_wheaten_terrier', 'Chihuahua',\n",
       "       'black-and-tan_coonhound', 'coho', 'toy_terrier',\n",
       "       'Blenheim_spaniel', 'Pembroke', 'llama',\n",
       "       'Chesapeake_Bay_retriever', 'curly-coated_retriever', 'dalmatian',\n",
       "       'Ibizan_hound', 'Border_collie', 'Labrador_retriever', 'seat_belt',\n",
       "       'snail', 'miniature_schnauzer', 'Airedale', 'triceratops', 'swab',\n",
       "       'hay', 'hyena', 'jigsaw_puzzle', 'West_Highland_white_terrier',\n",
       "       'toy_poodle', 'giant_schnauzer', 'vizsla', 'vacuum', 'Rottweiler',\n",
       "       'Siberian_husky', 'teddy', 'papillon', 'Saint_Bernard',\n",
       "       'porcupine', 'goose', 'Tibetan_terrier', 'borzoi', 'beagle',\n",
       "       'hare', 'Yorkshire_terrier', 'Pomeranian', 'electric_fan',\n",
       "       'web_site', 'ibex', 'kuvasz', 'fire_engine', 'lorikeet',\n",
       "       'flat-coated_retriever', 'toyshop', 'common_iguana',\n",
       "       'Norwegian_elkhound', 'frilled_lizard', 'leatherback_turtle',\n",
       "       'hamster', 'Angora', 'Arctic_fox', 'trombone', 'canoe',\n",
       "       'king_penguin', 'shopping_basket', 'standard_poodle',\n",
       "       'Staffordshire_bullterrier', 'basenji', 'Lakeland_terrier',\n",
       "       'American_Staffordshire_terrier', 'bearskin', 'Shih-Tzu',\n",
       "       'bustard', 'crash_helmet', 'French_bulldog', 'Pekinese',\n",
       "       'komondor', 'ski_mask', 'malinois', 'kelpie', 'Brittany_spaniel',\n",
       "       'cocker_spaniel', 'shower_curtain', 'basset', 'jellyfish',\n",
       "       'doormat', 'Arabian_camel', 'lynx', 'hog', 'comic_book', 'minivan',\n",
       "       'seashore', 'cuirass', 'Brabancon_griffon', 'candle', 'Eskimo_dog',\n",
       "       'weasel', 'Christmas_stocking', 'washbasin', 'car_mirror',\n",
       "       'piggy_bank', 'pot', 'boathouse', 'mud_turtle',\n",
       "       'German_short-haired_pointer', 'Shetland_sheepdog',\n",
       "       'Irish_terrier', 'cairn', 'platypus', 'English_springer',\n",
       "       'whippet', 'ping-pong_ball', 'sea_urchin', 'bow_tie',\n",
       "       'window_shade', \"jack-o'-lantern\", 'sorrel', 'Sussex_spaniel',\n",
       "       'peacock', 'axolotl', 'wool', 'banana', 'Dandie_Dinmont',\n",
       "       'Norwich_terrier', 'wood_rabbit', 'dhole', 'keeshond',\n",
       "       'Norfolk_terrier', 'lacewing', 'dingo', 'brown_bear',\n",
       "       'Old_English_sheepdog', 'scorpion', 'flamingo', 'microphone',\n",
       "       'Samoyed', 'pitcher', 'African_hunting_dog', 'refrigerator',\n",
       "       'picket_fence', 'tub', 'zebra', 'hermit_crab', 'swing', 'Doberman',\n",
       "       'park_bench', 'feather_boa', 'Loafer', 'stone_wall', 'ice_bear',\n",
       "       'prayer_rug', 'chimpanzee', 'china_cabinet', 'bee_eater',\n",
       "       'tennis_ball', 'carton', 'killer_whale', 'ostrich', 'terrapin',\n",
       "       'Siamese_cat', 'gondola', 'Great_Pyrenees', 'microwave',\n",
       "       'starfish', 'sandbar', 'tusker', 'motor_scooter', 'ram',\n",
       "       'leaf_beetle', 'wombat', 'schipperke', 'Newfoundland',\n",
       "       'bull_mastiff', 'water_bottle', 'suit', 'toilet_seat', 'collie',\n",
       "       'robin', 'Cardigan', 'Greater_Swiss_Mountain_dog', 'slug',\n",
       "       'toilet_tissue', 'acorn_squash', 'soccer_ball',\n",
       "       'African_crocodile', 'tick', 'ocarina', 'boxer', 'street_sign',\n",
       "       'bow', 'stove', 'paper_towel', 'upright', 'dough',\n",
       "       'Scottish_deerhound', 'bath_towel', 'standard_schnauzer',\n",
       "       'walking_stick', 'Irish_water_spaniel', 'bubble', 'Boston_bull',\n",
       "       'book_jacket', 'rain_barrel', 'black-footed_ferret', 'guenon',\n",
       "       'Japanese_spaniel', 'water_buffalo', 'patio', 'cowboy_hat',\n",
       "       'dogsled', 'maze', 'harp', 'panpipe', 'cash_machine', 'mailbox',\n",
       "       'wallaby', 'EntleBucher', 'earthstar', 'pillow', 'bluetick',\n",
       "       'space_heater', 'carousel', 'Irish_setter', 'birdhouse', 'snorkel',\n",
       "       'bald_eagle', 'koala', 'Leonberg', 'cheetah', 'minibus',\n",
       "       'Weimaraner', 'clog', 'dishwasher', 'white_wolf', 'sliding_door',\n",
       "       'damselfly', 'Great_Dane', 'Tibetan_mastiff', 'cheeseburger',\n",
       "       'fiddler_crab', 'bannister', 'crane', 'Scotch_terrier',\n",
       "       'snowmobile', 'badger', 'bighorn', 'geyser', 'barrow', 'bison',\n",
       "       'Mexican_hairless', 'ice_lolly', 'sea_lion', 'dining_table',\n",
       "       'groenendael', 'Australian_terrier', 'beaver', 'briard',\n",
       "       'Appenzeller', 'grey_fox', 'mousetrap', 'hippopotamus',\n",
       "       'Border_terrier', 'hummingbird', 'tailed_frog', 'otter',\n",
       "       'Egyptian_cat', 'four-poster', 'wild_boar', 'bathtub', 'agama',\n",
       "       'muzzle', 'hotdog', 'bib', 'espresso', 'timber_wolf', 'meerkat',\n",
       "       'nail', 'hammer', 'home_theater', 'alp', 'bonnet', 'handkerchief',\n",
       "       'hand_blower', 'polecat', 'lakeside', 'studio_couch', 'cup',\n",
       "       'cliff', 'Bedlington_terrier', 'lawn_mower', 'balloon',\n",
       "       'sunglasses', 'rapeseed', 'traffic_light', 'coil', 'binoculars',\n",
       "       'paddle', 'tiger_shark', 'sulphur-crested_cockatoo',\n",
       "       'wire-haired_fox_terrier', 'Saluki', 'American_black_bear',\n",
       "       'rotisserie', 'conch', 'skunk', 'bookshop', 'radio_telescope',\n",
       "       'cougar', 'African_grey', 'coral_reef', 'lion', 'maillot',\n",
       "       'Madagascar_cat', 'tabby', 'silky_terrier', 'giant_panda',\n",
       "       'long-horned_beetle', 'Afghan_hound', 'clumber', 'sundial',\n",
       "       'padlock', 'pool_table', 'quilt', 'beach_wagon', 'remote_control',\n",
       "       'bakery', 'pedestal', 'gas_pump', 'bookcase', 'shield', 'loupe',\n",
       "       'restaurant', 'prison', 'school_bus', 'cowboy_boot', 'jersey',\n",
       "       'wooden_spoon', 'leopard', 'mortarboard', 'teapot',\n",
       "       'military_uniform', 'washer', 'coffee_mug', 'fountain',\n",
       "       'pencil_box', 'barbell', 'grille', 'revolver', 'envelope',\n",
       "       'syringe', 'marmot', 'pole', 'laptop', 'basketball', 'tricycle',\n",
       "       'convertible', 'limousine', 'orange'], dtype=object)"
      ]
     },
     "execution_count": 21,
     "metadata": {},
     "output_type": "execute_result"
    }
   ],
   "source": [
    "#check for unique values prediction one\n",
    "df_image.p1.unique()"
   ]
  },
  {
   "cell_type": "code",
   "execution_count": 22,
   "metadata": {},
   "outputs": [
    {
     "data": {
      "text/plain": [
       "array(['collie', 'miniature_pinscher', 'malinois', 'redbone',\n",
       "       'Rottweiler', 'English_springer', 'mud_turtle', 'Tibetan_mastiff',\n",
       "       'shopping_basket', 'komondor', 'Yorkshire_terrier',\n",
       "       'English_foxhound', 'bull_mastiff', 'German_shepherd', 'Shih-Tzu',\n",
       "       'Newfoundland', 'cock', 'desk', 'toy_terrier', 'toy_poodle',\n",
       "       'otter', 'Chesapeake_Bay_retriever', 'Siberian_husky', 'skunk',\n",
       "       'Afghan_hound', 'bloodhound', 'barracouta', 'papillon',\n",
       "       'cocker_spaniel', 'chow', 'Irish_terrier', 'chain_saw', 'beagle',\n",
       "       'giant_schnauzer', 'Labrador_retriever', 'Pembroke', 'Chihuahua',\n",
       "       'Weimaraner', 'slug', 'Brittany_spaniel', 'standard_schnauzer',\n",
       "       'teddy', 'armadillo', 'African_hunting_dog', 'vizsla', 'doormat',\n",
       "       'pug', 'Italian_greyhound', 'Samoyed', 'Pomeranian',\n",
       "       'miniature_poodle', 'Lakeland_terrier', 'Irish_setter', 'swab',\n",
       "       'malamute', 'bath_towel', 'Border_collie', 'Leonberg', 'drake',\n",
       "       'French_bulldog', 'ice_bear', 'Christmas_stocking',\n",
       "       'golden_retriever', 'standard_poodle', 'dhole', 'kuvasz',\n",
       "       'Cardigan', 'silky_terrier', 'spotlight', 'dishwasher', 'bighorn',\n",
       "       'tow_truck', 'hummingbird', 'English_setter', 'prayer_rug',\n",
       "       'frilled_lizard', 'Pekinese', 'ox', 'boxer', 'hog', 'guinea_pig',\n",
       "       'hen', 'wallaby', 'cowboy_boot', 'cornet', 'minivan', 'paddle',\n",
       "       'basset', 'hamper', 'Bedlington_terrier', 'Shetland_sheepdog',\n",
       "       'bow', 'Lhasa', 'pelican', 'toaster', 'groenendael',\n",
       "       'Australian_terrier', 'llama', 'knee_pad', 'pillow',\n",
       "       'Ibizan_hound', 'Old_English_sheepdog', 'Welsh_springer_spaniel',\n",
       "       'coral_reef', 'bison', 'waffle_iron', 'tabby', 'bib', 'police_van',\n",
       "       'Eskimo_dog', 'breastplate', 'German_short-haired_pointer',\n",
       "       'Norfolk_terrier', 'Blenheim_spaniel', 'pickup',\n",
       "       'miniature_schnauzer', 'lampshade', 'Tibetan_terrier',\n",
       "       'Siamese_cat', 'borzoi', 'studio_couch', 'toilet_seat', 'hamster',\n",
       "       'seat_belt', 'keeshond', 'koala', 'hair_spray', 'Saint_Bernard',\n",
       "       'tray', 'American_Staffordshire_terrier', 'birdhouse', 'terrapin',\n",
       "       'Staffordshire_bullterrier', 'briard',\n",
       "       'West_Highland_white_terrier', 'spotted_salamander', 'tennis_ball',\n",
       "       'porcupine', 'cardigan', 'corn', 'basenji', 'otterhound',\n",
       "       'European_gallinule', 'indri', 'tailed_frog', 'beach_wagon',\n",
       "       'siamang', 'orange', 'home_theater', 'cairn', 'hare',\n",
       "       'Norwegian_elkhound', 'Brabancon_griffon', 'American_black_bear',\n",
       "       'sulphur_butterfly', 'Sealyham_terrier', 'Walker_hound',\n",
       "       'tarantula', 'Persian_cat', 'coral_fungus', 'accordion', 'kelpie',\n",
       "       'Great_Pyrenees', 'wood_rabbit', 'black-and-tan_coonhound',\n",
       "       'sunglasses', 'plow', 'whippet', 'rain_barrel', 'bathtub', 'tiger',\n",
       "       'snail', 'tick', 'wire-haired_fox_terrier', 'water_bottle', 'wig',\n",
       "       'platypus', 'Irish_wolfhound', 'ram', 'gorilla',\n",
       "       'entertainment_center', 'toucan', 'mask', 'shopping_cart',\n",
       "       'Sussex_spaniel', 'crate', 'grey_whale', 'badger', 'Airedale',\n",
       "       'Arabian_camel', 'cockroach', 'lifeboat', 'rotisserie', 'goldfish',\n",
       "       'stingray', 'warthog', 'bobsled', 'rhinoceros_beetle', 'beaver',\n",
       "       'brown_bear', 'Maltese_dog', 'weasel', 'quill',\n",
       "       'Rhodesian_ridgeback', 'Arctic_fox', 'ashcan', 'bow_tie',\n",
       "       'soft-coated_wheaten_terrier', 'schipperke', 'bearskin',\n",
       "       'Kerry_blue_terrier', 'ice_lolly', 'American_alligator',\n",
       "       'mosquito_net', 'sea_lion', 'Boston_bull', 'nail',\n",
       "       'black-footed_ferret', 'promontory', 'sarong', 'Doberman',\n",
       "       'space_heater', 'Great_Dane', 'mailbox', 'Saluki', 'bakery',\n",
       "       'sandal', 'leafhopper', 'barrel', 'water_buffalo', 'polecat',\n",
       "       'macaque', 'Japanese_spaniel', 'folding_chair', 'trench_coat',\n",
       "       'Angora', 'junco', 'crib', 'dalmatian', 'snowmobile',\n",
       "       'flat-coated_retriever', 'streetcar', 'window_screen', 'bannister',\n",
       "       'hair_slide', 'meerkat', 'cannon', 'jaguar', 'Border_terrier',\n",
       "       'Greater_Swiss_Mountain_dog', 'hay', 'apron', 'cloak', 'radiator',\n",
       "       'muzzle', 'feather_boa', 'rifle', 'chimpanzee', 'loggerhead',\n",
       "       'torch', 'Mexican_hairless', 'spindle', 'triceratops',\n",
       "       'Appenzeller', 'stove', 'dingo', 'oscilloscope', 'common_newt',\n",
       "       'hotdog', 'medicine_chest', 'quail', 'horse_cart', 'four-poster',\n",
       "       'pier', 'red_fox', 'affenpinscher', 'assault_rifle',\n",
       "       'mashed_potato', 'moped', 'hyena', 'seashore', 'tub', 'sports_car',\n",
       "       'swing', 'mink', 'bluetick', 'neck_brace', 'grey_fox', 'mongoose',\n",
       "       'fur_coat', 'Scotch_terrier', 'spatula', 'paper_towel', 'shoji',\n",
       "       'toyshop', 'banded_gecko', 'peacock', 'crossword_puzzle',\n",
       "       'tree_frog', 'wombat', 'turnstile', 'sleeping_bag', 'quilt',\n",
       "       'Gila_monster', 'giant_panda', 'Dandie_Dinmont', 'handkerchief',\n",
       "       'sombrero', 'Indian_elephant', 'coffee_mug', 'gibbon', 'carton',\n",
       "       'screw', 'minibus', 'hatchet', 'window_shade', 'lawn_mower',\n",
       "       'washbasin', 'sock', 'prison', 'patio', 'china_cabinet',\n",
       "       'chain_mail', 'breakwater', 'computer_keyboard', 'goose',\n",
       "       'lakeside', 'solar_dish', 'table_lamp', 'Windsor_tie',\n",
       "       'punching_bag', 'comic_book', 'sunglass', 'great_white_shark',\n",
       "       'timber_wolf', 'fountain', 'dugong', 'marmot', 'barbershop',\n",
       "       'shovel', 'curly-coated_retriever', 'lesser_panda', 'monitor',\n",
       "       'crutch', 'cash_machine', 'printer', 'volcano', 'wallet', 'laptop',\n",
       "       'bathing_cap', 'confectionery', 'dam', 'killer_whale', 'canoe',\n",
       "       'Madagascar_cat', 'jean', 'boathouse', 'cliff', 'maillot', 'iPod',\n",
       "       'hand-held_computer', 'black_widow', 'Norwich_terrier', 'necklace',\n",
       "       'dining_table', 'binoculars', 'cradle', 'sea_urchin', 'cougar',\n",
       "       'EntleBucher', 'basketball', 'lighter', 'saltshaker', 'harvester',\n",
       "       'television', 'envelope', 'house_finch', 'web_site', 'palace',\n",
       "       'shower_curtain', 'cab', 'snorkel', 'jigsaw_puzzle', 'sweatshirt',\n",
       "       'white_wolf', 'sliding_door', 'academic_gown', 'cowboy_hat',\n",
       "       'can_opener', 'cup', 'rule', 'soccer_ball', 'bucket', 'racket',\n",
       "       'menu', 'purse', 'Bernese_mountain_dog', 'dumbbell', 'projectile',\n",
       "       'dock', 'oxygen_mask', 'sandbar', 'umbrella', 'shower_cap',\n",
       "       'bagel'], dtype=object)"
      ]
     },
     "execution_count": 22,
     "metadata": {},
     "output_type": "execute_result"
    }
   ],
   "source": [
    "#check for unique values prediction two\n",
    "df_image.p2.unique()"
   ]
  },
  {
   "cell_type": "code",
   "execution_count": 23,
   "metadata": {},
   "outputs": [
    {
     "data": {
      "text/plain": [
       "array(['Shetland_sheepdog', 'Rhodesian_ridgeback', 'bloodhound',\n",
       "       'miniature_pinscher', 'Doberman', 'Greater_Swiss_Mountain_dog',\n",
       "       'terrapin', 'fur_coat', 'golden_retriever',\n",
       "       'soft-coated_wheaten_terrier', 'Labrador_retriever', 'Pekinese',\n",
       "       'Ibizan_hound', 'French_bulldog', 'malinois', 'Dandie_Dinmont',\n",
       "       'borzoi', 'partridge', 'bookcase', 'basenji', 'miniature_poodle',\n",
       "       'great_grey_owl', 'groenendael', 'Eskimo_dog', 'hamster', 'briard',\n",
       "       'papillon', 'flat-coated_retriever', 'gar', 'Chihuahua',\n",
       "       'Shih-Tzu', 'Pomeranian', 'dingo', 'power_drill', 'Saluki',\n",
       "       'Great_Pyrenees', 'West_Highland_white_terrier', 'collie',\n",
       "       'toy_poodle', 'vizsla', 'acorn', 'giant_schnauzer', 'teddy',\n",
       "       'common_iguana', 'wig', 'water_buffalo', 'coyote', 'seat_belt',\n",
       "       'kelpie', 'space_heater', 'Brabancon_griffon', 'standard_poodle',\n",
       "       'beagle', 'Irish_water_spaniel', 'bluetick', 'Weimaraner',\n",
       "       'Chesapeake_Bay_retriever', 'toilet_tissue',\n",
       "       'black-and-tan_coonhound', 'kuvasz', 'Christmas_stocking',\n",
       "       'badger', 'hen', 'Staffordshire_bullterrier', 'Yorkshire_terrier',\n",
       "       'Lakeland_terrier', 'weasel', 'ski_mask', 'cocker_spaniel',\n",
       "       'Australian_terrier', 'lampshade', 'oscilloscope', 'ram', 'jeep',\n",
       "       'ice_bear', 'African_grey', 'Great_Dane', 'curly-coated_retriever',\n",
       "       'doormat', 'African_chameleon', 'schipperke', 'muzzle',\n",
       "       'triceratops', 'Newfoundland', 'Band_Aid', 'wood_rabbit',\n",
       "       'white_wolf', 'giant_panda', 'Welsh_springer_spaniel',\n",
       "       'French_horn', 'toy_terrier', 'Pembroke', 'Cardigan', 'bassinet',\n",
       "       'pug', 'Afghan_hound', 'American_Staffordshire_terrier', 'whippet',\n",
       "       'English_setter', 'panpipe', 'crane', 'mouse', 'titi', 'Angora',\n",
       "       'Boston_bull', 'silky_terrier', 'Japanese_spaniel', 'sandbar',\n",
       "       'balance_beam', 'black-footed_ferret', 'miniature_schnauzer',\n",
       "       'Blenheim_spaniel', 'bathtub', 'Saint_Bernard', 'redbone',\n",
       "       'goldfish', 'Norfolk_terrier', 'llama', 'koala', 'pillow',\n",
       "       'jersey', 'chow', 'minibus', 'malamute', 'bulletproof_vest',\n",
       "       'beach_wagon', 'cairn', 'plunger', 'paper_towel', 'wing',\n",
       "       'English_foxhound', 'Brittany_spaniel', 'bolete', 'ashcan',\n",
       "       'box_turtle', 'guinea_pig', 'bison', 'bull_mastiff', 'racket',\n",
       "       'cardoon', 'Tibetan_mastiff', 'window_screen', 'Irish_terrier',\n",
       "       'agama', 'common_newt', 'car_wheel', 'gorilla', 'bagel', 'clumber',\n",
       "       'Egyptian_cat', 'television', 'boxer', 'brown_bear', 'leafhopper',\n",
       "       'German_shepherd', 'Border_collie', 'menu', 'wolf_spider',\n",
       "       'bathing_cap', 'stinkhorn', 'drumstick', 'mask',\n",
       "       'Scottish_deerhound', 'shower_curtain', 'Appenzeller',\n",
       "       'plastic_bag', 'swimming_trunks', 'prairie_chicken', 'red_wolf',\n",
       "       'Maltese_dog', 'snail', 'gibbon', 'Gordon_setter', 'black_swan',\n",
       "       'beacon', 'wool', 'cowboy_boot', 'Rottweiler', 'poncho', 'swing',\n",
       "       'Arctic_fox', 'bib', 'Italian_greyhound', 'steam_locomotive',\n",
       "       'fountain', 'chickadee', 'abaya', 'Border_terrier', 'bubble',\n",
       "       'chimpanzee', 'hammerhead', 'Norwegian_elkhound',\n",
       "       'Norwich_terrier', 'Airedale', 'Siamese_cat', 'sea_cucumber',\n",
       "       'seashore', 'nipple', 'moped', 'Arabian_camel', 'crayfish',\n",
       "       'wallaby', 'wire-haired_fox_terrier', 'toilet_seat',\n",
       "       'Old_English_sheepdog', 'pajama', 'Walker_hound', 'shovel',\n",
       "       'bucket', 'Sealyham_terrier', 'Windsor_tie', 'Siberian_husky',\n",
       "       'quill', 'Persian_cat', 'European_fire_salamander',\n",
       "       'three-toed_sloth', 'swab', 'echidna', 'tennis_ball', 'Lhasa',\n",
       "       'coral_reef', 'keeshond', 'mink', 'screw', 'basset', 'wreck',\n",
       "       'kimono', 'German_short-haired_pointer', 'joystick', 'microwave',\n",
       "       'Tibetan_terrier', 'Irish_wolfhound', 'Samoyed', 'loggerhead',\n",
       "       'French_loaf', 'Irish_setter', 'komondor', 'purse', 'greenhouse',\n",
       "       'broccoli', 'shopping_basket', 'macaque', 'squirrel_monkey',\n",
       "       'green_lizard', 'parallel_bars', 'cloak', 'chest', 'sundial',\n",
       "       'mosquito_net', 'bath_towel', 'cuirass', 'zebra', 'lumbermill',\n",
       "       'wallet', 'feather_boa', 'English_springer', 'electric_fan',\n",
       "       'hippopotamus', 'ox', 'quilt', 'assault_rifle', 'axolotl', 'pot',\n",
       "       'toyshop', 'pizza', 'scuba_diver', 'beaver', 'Mexican_hairless',\n",
       "       'cliff', 'loupe', 'wild_boar', 'jaguar', 'hog', 'polecat', 'lion',\n",
       "       'EntleBucher', 'hand-held_computer', 'washbasin', 'whiptail',\n",
       "       'rock_crab', 'hare', 'shoji', 'sombrero', 'bell_cote', 'rifle',\n",
       "       'goose', 'pickup', 'sunglasses', 'limousine', 'bow_tie', 'pretzel',\n",
       "       'marmot', 'ice_lolly', 'vacuum', 'dalmatian', 'prison',\n",
       "       'shower_cap', 'sliding_door', 'dugong', 'otterhound', 'eel',\n",
       "       'binder', 'bullfrog', 'soap_dispenser', 'sea_lion', 'carton',\n",
       "       'brass', 'mitten', 'golfcart', 'cougar', 'warthog', 'umbrella',\n",
       "       'neck_brace', 'cup', 'book_jacket', 'padlock', 'cab', 'chime',\n",
       "       'Leonberg', 'viaduct', 'American_black_bear', 'tub', 'hand_blower',\n",
       "       'king_penguin', 'rotisserie', 'bannister', 'passenger_car',\n",
       "       'mongoose', 'dhole', 'consomme', 'valley', 'park_bench',\n",
       "       'mushroom', 'barrow', 'parachute', 'desktop_computer', 'snorkel',\n",
       "       'wok', 'affenpinscher', 'space_shuttle', 'rain_barrel',\n",
       "       'ballplayer', 'mountain_tent', 'oxcart', 'buckeye', 'sunglass',\n",
       "       'croquet_ball', 'refrigerator', 'snow_leopard', 'tripod',\n",
       "       'rapeseed', 'tiger_cat', 'Bernese_mountain_dog', 'notebook',\n",
       "       'maraca', 'pool_table', 'lakeside', 'theater_curtain', 'pier',\n",
       "       'cheetah', 'mousetrap', 'pop_bottle', 'soccer_ball', 'wombat',\n",
       "       'rhinoceros_beetle', 'paddlewheel', 'paintbrush', 'maze',\n",
       "       'hatchet', 'chain', 'jigsaw_puzzle', 'switch',\n",
       "       'Kerry_blue_terrier', 'barbell', 'convertible',\n",
       "       'entertainment_center', 'file', 'guillotine', 'nail',\n",
       "       'standard_schnauzer', 'bow', 'grocery_store', 'boathouse', 'conch',\n",
       "       'Bouvier_des_Flandres', 'grey_fox', 'shopping_cart', 'meerkat',\n",
       "       'grand_piano', 'envelope', 'screen', 'coffeepot', 'printer',\n",
       "       'otter', 'restaurant', 'bonnet', 'crossword_puzzle', 'go-kart',\n",
       "       'Sussex_spaniel', 'orangutan', 'canoe', 'barber_chair',\n",
       "       'traffic_light', 'ibex', 'can_opener', 'Indian_elephant',\n",
       "       'spatula', 'banana'], dtype=object)"
      ]
     },
     "execution_count": 23,
     "metadata": {},
     "output_type": "execute_result"
    }
   ],
   "source": [
    "#check for unique values prediction three\n",
    "df_image.p3.unique()"
   ]
  },
  {
   "cell_type": "markdown",
   "metadata": {},
   "source": [
    "From observation, some of the values in the prediction columns start with uppercase while others start with lowercase."
   ]
  },
  {
   "cell_type": "code",
   "execution_count": 24,
   "metadata": {},
   "outputs": [
    {
     "data": {
      "text/plain": [
       "None       745\n",
       "a           55\n",
       "Charlie     12\n",
       "Lucy        11\n",
       "Cooper      11\n",
       "          ... \n",
       "Brandy       1\n",
       "Adele        1\n",
       "Malikai      1\n",
       "Halo         1\n",
       "Ralphé       1\n",
       "Name: name, Length: 957, dtype: int64"
      ]
     },
     "execution_count": 24,
     "metadata": {},
     "output_type": "execute_result"
    }
   ],
   "source": [
    "#value counts for the dog names\n",
    "df_archive.name.value_counts()"
   ]
  },
  {
   "cell_type": "markdown",
   "metadata": {},
   "source": [
    "From what we have above a total of 800 observations are missing a name, there could be more seeing there are so many errors in the name column, it might be of interest to really zoom in on the column, to ensure all quality issues are detected."
   ]
  },
  {
   "cell_type": "code",
   "execution_count": 25,
   "metadata": {},
   "outputs": [
    {
     "data": {
      "text/plain": [
       "array(['Phineas', 'Tilly', 'Archie', 'Darla', 'Franklin', 'None', 'Jax',\n",
       "       'Zoey', 'Cassie', 'Koda', 'Bruno', 'Ted', 'Stuart', 'Oliver',\n",
       "       'Jim', 'Zeke', 'Ralphus', 'Canela', 'Gerald', 'Jeffrey', 'such',\n",
       "       'Maya', 'Mingus', 'Derek', 'Roscoe', 'Waffles', 'Jimbo', 'Maisey',\n",
       "       'Lilly', 'Earl', 'Lola', 'Kevin', 'Yogi', 'Noah', 'Bella',\n",
       "       'Grizzwald', 'Rusty', 'Gus', 'Stanley', 'Alfy', 'Koko', 'Rey',\n",
       "       'Gary', 'a', 'Elliot', 'Louis', 'Jesse', 'Romeo', 'Bailey',\n",
       "       'Duddles', 'Jack', 'Emmy', 'Steven', 'Beau', 'Snoopy', 'Shadow',\n",
       "       'Terrance', 'Aja', 'Penny', 'Dante', 'Nelly', 'Ginger', 'Benedict',\n",
       "       'Venti', 'Goose', 'Nugget', 'Cash', 'Coco', 'Jed', 'Sebastian',\n",
       "       'Walter', 'Sierra', 'Monkey', 'Harry', 'Kody', 'Lassie', 'Rover',\n",
       "       'Napolean', 'Dawn', 'Boomer', 'Cody', 'Rumble', 'Clifford',\n",
       "       'quite', 'Dewey', 'Scout', 'Gizmo', 'Cooper', 'Harold', 'Shikha',\n",
       "       'Jamesy', 'Lili', 'Sammy', 'Meatball', 'Paisley', 'Albus',\n",
       "       'Neptune', 'Quinn', 'Belle', 'Zooey', 'Dave', 'Jersey', 'Hobbes',\n",
       "       'Burt', 'Lorenzo', 'Carl', 'Jordy', 'Milky', 'Trooper', 'Winston',\n",
       "       'Sophie', 'Wyatt', 'Rosie', 'Thor', 'Oscar', 'Luna', 'Callie',\n",
       "       'Cermet', 'George', 'Marlee', 'Arya', 'Einstein', 'Alice',\n",
       "       'Rumpole', 'Benny', 'Aspen', 'Jarod', 'Wiggles', 'General',\n",
       "       'Sailor', 'Astrid', 'Iggy', 'Snoop', 'Kyle', 'Leo', 'Riley',\n",
       "       'Gidget', 'Noosh', 'Odin', 'Jerry', 'Charlie', 'Georgie', 'Rontu',\n",
       "       'Cannon', 'Furzey', 'Daisy', 'Tuck', 'Barney', 'Vixen', 'Jarvis',\n",
       "       'Mimosa', 'Pickles', 'Bungalo', 'Brady', 'Margo', 'Sadie', 'Hank',\n",
       "       'Tycho', 'Stephan', 'Indie', 'Winnie', 'Bentley', 'Ken', 'Max',\n",
       "       'Maddie', 'Pipsy', 'Monty', 'Sojourner', 'Odie', 'Arlo', 'Sunny',\n",
       "       'Vincent', 'Lucy', 'Clark', 'Mookie', 'Meera', 'Buddy', 'Ava',\n",
       "       'Rory', 'Eli', 'Ash', 'Tucker', 'Tobi', 'Chester', 'Wilson',\n",
       "       'Sunshine', 'Lipton', 'Gabby', 'Bronte', 'Poppy', 'Rhino',\n",
       "       'Willow', 'not', 'Orion', 'Eevee', 'Smiley', 'Logan', 'Moreton',\n",
       "       'Klein', 'Miguel', 'Emanuel', 'Kuyu', 'Dutch', 'Pete', 'Scooter',\n",
       "       'Reggie', 'Kyro', 'Samson', 'Loki', 'Mia', 'Malcolm', 'Dexter',\n",
       "       'Alfie', 'Fiona', 'one', 'Mutt', 'Bear', 'Doobert', 'Beebop',\n",
       "       'Alexander', 'Sailer', 'Brutus', 'Kona', 'Boots', 'Ralphie',\n",
       "       'Phil', 'Cupid', 'Pawnd', 'Pilot', 'Ike', 'Mo', 'Toby', 'Sweet',\n",
       "       'Pablo', 'Nala', 'Balto', 'Crawford', 'Gabe', 'Mattie', 'Jimison',\n",
       "       'Hercules', 'Duchess', 'Harlso', 'Sampson', 'Sundance', 'Luca',\n",
       "       'Flash', 'Finn', 'Peaches', 'Howie', 'Jazzy', 'Anna', 'Bo',\n",
       "       'Seamus', 'Wafer', 'Chelsea', 'Tom', 'Moose', 'Florence', 'Autumn',\n",
       "       'Dido', 'Eugene', 'Herschel', 'Strudel', 'Tebow', 'Chloe', 'Betty',\n",
       "       'Timber', 'Binky', 'Dudley', 'Comet', 'Larry', 'Levi', 'Akumi',\n",
       "       'Titan', 'Olivia', 'Alf', 'Oshie', 'Bruce', 'Chubbs', 'Sky',\n",
       "       'Atlas', 'Eleanor', 'Layla', 'Rocky', 'Baron', 'Tyr', 'Bauer',\n",
       "       'Swagger', 'Brandi', 'Mary', 'Moe', 'Halo', 'Augie', 'Craig',\n",
       "       'Sam', 'Hunter', 'Pavlov', 'Maximus', 'Wallace', 'Ito', 'Milo',\n",
       "       'Ollie', 'Cali', 'Lennon', 'incredibly', 'Major', 'Duke',\n",
       "       'Reginald', 'Sansa', 'Shooter', 'Django', 'Diogi', 'Sonny',\n",
       "       'Philbert', 'Marley', 'Severus', 'Ronnie', 'Anakin', 'Bones',\n",
       "       'Mauve', 'Chef', 'Doc', 'Sobe', 'Longfellow', 'Mister', 'Iroh',\n",
       "       'Baloo', 'Stubert', 'Paull', 'Timison', 'Davey', 'Pancake',\n",
       "       'Tyrone', 'Snicku', 'Ruby', 'Brody', 'Rizzy', 'Mack', 'Butter',\n",
       "       'Nimbus', 'Laika', 'Dobby', 'Juno', 'Maude', 'Lily', 'Newt',\n",
       "       'Benji', 'Nida', 'Robin', 'Monster', 'BeBe', 'Remus', 'Mabel',\n",
       "       'Misty', 'Happy', 'Mosby', 'Maggie', 'Leela', 'Ralphy', 'Brownie',\n",
       "       'Meyer', 'Stella', 'mad', 'Frank', 'Tonks', 'Lincoln', 'Oakley',\n",
       "       'Dale', 'Rizzo', 'Arnie', 'Pinot', 'Dallas', 'Hero', 'Frankie',\n",
       "       'Stormy', 'Mairi', 'Loomis', 'Godi', 'Kenny', 'Deacon', 'Timmy',\n",
       "       'Harper', 'Chipson', 'Combo', 'Dash', 'Bell', 'Hurley', 'Jay',\n",
       "       'Mya', 'Strider', 'an', 'Wesley', 'Solomon', 'Huck', 'very', 'O',\n",
       "       'Blue', 'Finley', 'Sprinkles', 'Heinrich', 'Shakespeare', 'Fizz',\n",
       "       'Chip', 'Grey', 'Roosevelt', 'Gromit', 'Willem', 'Dakota', 'Dixie',\n",
       "       'Al', 'Jackson', 'just', 'Carbon', 'DonDon', 'Kirby', 'Lou',\n",
       "       'Nollie', 'Chevy', 'Tito', 'Louie', 'Rupert', 'Rufus', 'Brudge',\n",
       "       'Shadoe', 'Colby', 'Angel', 'Brat', 'Tove', 'my', 'Aubie', 'Kota',\n",
       "       'Eve', 'Glenn', 'Shelby', 'Sephie', 'Bonaparte', 'Albert',\n",
       "       'Wishes', 'Rose', 'Theo', 'Rocco', 'Fido', 'Emma', 'Spencer',\n",
       "       'Lilli', 'Boston', 'Brandonald', 'Corey', 'Leonard', 'Chompsky',\n",
       "       'Beckham', 'Devón', 'Gert', 'Watson', 'Rubio', 'Keith', 'Dex',\n",
       "       'Carly', 'Ace', 'Tayzie', 'Grizzie', 'Fred', 'Gilbert', 'Zoe',\n",
       "       'Stewie', 'Calvin', 'Lilah', 'Spanky', 'Jameson', 'Piper',\n",
       "       'Atticus', 'Blu', 'Dietrich', 'Divine', 'Tripp', 'his', 'Cora',\n",
       "       'Huxley', 'Keurig', 'Bookstore', 'Linus', 'Abby', 'Shaggy',\n",
       "       'Shiloh', 'Gustav', 'Arlen', 'Percy', 'Lenox', 'Sugar', 'Harvey',\n",
       "       'Blanket', 'actually', 'Geno', 'Stark', 'Beya', 'Kilo', 'Kayla',\n",
       "       'Maxaroni', 'Doug', 'Edmund', 'Aqua', 'Theodore', 'Chase',\n",
       "       'getting', 'Rorie', 'Simba', 'Charles', 'Bayley', 'Axel',\n",
       "       'Storkson', 'Remy', 'Chadrick', 'Kellogg', 'Buckley', 'Livvie',\n",
       "       'Terry', 'Hermione', 'Ralpher', 'Aldrick', 'this', 'unacceptable',\n",
       "       'Rooney', 'Crystal', 'Ziva', 'Stefan', 'Pupcasso', 'Puff',\n",
       "       'Flurpson', 'Coleman', 'Enchilada', 'Raymond', 'all', 'Rueben',\n",
       "       'Cilantro', 'Karll', 'Sprout', 'Blitz', 'Bloop', 'Lillie',\n",
       "       'Ashleigh', 'Kreggory', 'Sarge', 'Luther', 'Ivar', 'Jangle',\n",
       "       'Schnitzel', 'Panda', 'Berkeley', 'Ralphé', 'Charleson', 'Clyde',\n",
       "       'Harnold', 'Sid', 'Pippa', 'Otis', 'Carper', 'Bowie',\n",
       "       'Alexanderson', 'Suki', 'Barclay', 'Skittle', 'Ebby', 'Flávio',\n",
       "       'Smokey', 'Link', 'Jennifur', 'Ozzy', 'Bluebert', 'Stephanus',\n",
       "       'Bubbles', 'old', 'Zeus', 'Bertson', 'Nico', 'Michelangelope',\n",
       "       'Siba', 'Calbert', 'Curtis', 'Travis', 'Thumas', 'Kanu', 'Lance',\n",
       "       'Opie', 'Kane', 'Olive', 'Chuckles', 'Staniel', 'Sora', 'Beemo',\n",
       "       'Gunner', 'infuriating', 'Lacy', 'Tater', 'Olaf', 'Cecil', 'Vince',\n",
       "       'Karma', 'Billy', 'Walker', 'Rodney', 'Klevin', 'Malikai',\n",
       "       'Bobble', 'River', 'Jebberson', 'Remington', 'Farfle', 'Jiminus',\n",
       "       'Clarkus', 'Finnegus', 'Cupcake', 'Kathmandu', 'Ellie', 'Katie',\n",
       "       'Kara', 'Adele', 'Zara', 'Ambrose', 'Jimothy', 'Bode', 'Terrenth',\n",
       "       'Reese', 'Chesterson', 'Lucia', 'Bisquick', 'Ralphson', 'Socks',\n",
       "       'Rambo', 'Rudy', 'Fiji', 'Rilo', 'Bilbo', 'Coopson', 'Yoda',\n",
       "       'Millie', 'Chet', 'Crouton', 'Daniel', 'Kaia', 'Murphy', 'Dotsy',\n",
       "       'Eazy', 'Coops', 'Fillup', 'Miley', 'Charl', 'Reagan', 'Yukon',\n",
       "       'CeCe', 'Cuddles', 'Claude', 'Jessiga', 'Carter', 'Ole', 'Pherb',\n",
       "       'Blipson', 'Reptar', 'Trevith', 'Berb', 'Bob', 'Colin', 'Brian',\n",
       "       'Oliviér', 'Grady', 'Kobe', 'Freddery', 'Bodie', 'Dunkin', 'Wally',\n",
       "       'Tupawc', 'Amber', 'Edgar', 'Teddy', 'Kingsley', 'Brockly',\n",
       "       'Richie', 'Molly', 'Vinscent', 'Cedrick', 'Hazel', 'Lolo', 'Eriq',\n",
       "       'Phred', 'the', 'Oddie', 'Maxwell', 'Geoff', 'Covach', 'Durg',\n",
       "       'Fynn', 'Ricky', 'Herald', 'Lucky', 'Ferg', 'Trip', 'Clarence',\n",
       "       'Hamrick', 'Brad', 'Pubert', 'Frönq', 'Derby', 'Lizzie', 'Ember',\n",
       "       'Blakely', 'Opal', 'Marq', 'Kramer', 'Barry', 'Gordon', 'Baxter',\n",
       "       'Mona', 'Horace', 'Crimson', 'Birf', 'Hammond', 'Lorelei', 'Marty',\n",
       "       'Brooks', 'Petrick', 'Hubertson', 'Gerbald', 'Oreo', 'Bruiser',\n",
       "       'Perry', 'Bobby', 'Jeph', 'Obi', 'Tino', 'Kulet', 'Sweets', 'Lupe',\n",
       "       'Tiger', 'Jiminy', 'Griffin', 'Banjo', 'Brandy', 'Lulu', 'Darrel',\n",
       "       'Taco', 'Joey', 'Patrick', 'Kreg', 'Todo', 'Tess', 'Ulysses',\n",
       "       'Toffee', 'Apollo', 'Asher', 'Glacier', 'Chuck', 'Champ', 'Ozzie',\n",
       "       'Griswold', 'Cheesy', 'Moofasa', 'Hector', 'Goliath', 'Kawhi',\n",
       "       'by', 'Emmie', 'Penelope', 'Willie', 'Rinna', 'Mike', 'William',\n",
       "       'Dwight', 'Evy', 'officially', 'Rascal', 'Linda', 'Tug', 'Tango',\n",
       "       'Grizz', 'Jerome', 'Crumpet', 'Jessifer', 'Izzy', 'Ralph', 'Sandy',\n",
       "       'Humphrey', 'Tassy', 'Juckson', 'Chuq', 'Tyrus', 'Karl',\n",
       "       'Godzilla', 'Vinnie', 'Kenneth', 'Herm', 'Bert', 'Striker',\n",
       "       'Donny', 'Pepper', 'Bernie', 'Buddah', 'Lenny', 'Arnold', 'Zuzu',\n",
       "       'Mollie', 'Laela', 'Tedders', 'Superpup', 'Rufio', 'Jeb', 'Rodman',\n",
       "       'Jonah', 'Chesney', 'life', 'Henry', 'Bobbay', 'Mitch', 'Kaiya',\n",
       "       'Acro', 'Aiden', 'Obie', 'Dot', 'Shnuggles', 'Kendall', 'Jeffri',\n",
       "       'Steve', 'Mac', 'Fletcher', 'Kenzie', 'Pumpkin', 'Schnozz',\n",
       "       'Gustaf', 'Cheryl', 'Ed', 'Leonidas', 'Norman', 'Caryl', 'Scott',\n",
       "       'Taz', 'Darby', 'Jackie', 'light', 'Jazz', 'Franq', 'Pippin',\n",
       "       'Rolf', 'Snickers', 'Ridley', 'Cal', 'Bradley', 'Bubba', 'Tuco',\n",
       "       'Patch', 'Mojo', 'Batdog', 'Dylan', 'space', 'Mark', 'JD',\n",
       "       'Alejandro', 'Scruffers', 'Pip', 'Julius', 'Tanner', 'Sparky',\n",
       "       'Anthony', 'Holly', 'Jett', 'Amy', 'Sage', 'Andy', 'Mason',\n",
       "       'Trigger', 'Antony', 'Creg', 'Traviss', 'Gin', 'Jeffrie', 'Danny',\n",
       "       'Ester', 'Pluto', 'Bloo', 'Edd', 'Willy', 'Herb', 'Damon',\n",
       "       'Peanut', 'Nigel', 'Butters', 'Sandra', 'Fabio', 'Randall', 'Liam',\n",
       "       'Tommy', 'Ben', 'Raphael', 'Julio', 'Andru', 'Kloey', 'Shawwn',\n",
       "       'Skye', 'Kollin', 'Ronduh', 'Billl', 'Saydee', 'Dug', 'Tessa',\n",
       "       'Sully', 'Kirk', 'Ralf', 'Clarq', 'Jaspers', 'Samsom', 'Harrison',\n",
       "       'Chaz', 'Jeremy', 'Jaycob', 'Lambeau', 'Ruffles', 'Amélie', 'Bobb',\n",
       "       'Banditt', 'Kevon', 'Winifred', 'Hanz', 'Churlie', 'Zeek',\n",
       "       'Timofy', 'Maks', 'Jomathan', 'Kallie', 'Marvin', 'Spark',\n",
       "       'Gòrdón', 'Jo', 'DayZ', 'Jareld', 'Torque', 'Ron', 'Skittles',\n",
       "       'Cleopatricia', 'Erik', 'Stu', 'Tedrick', 'Filup', 'Kial',\n",
       "       'Naphaniel', 'Dook', 'Hall', 'Philippe', 'Biden', 'Fwed',\n",
       "       'Genevieve', 'Joshwa', 'Bradlay', 'Clybe', 'Keet', 'Carll',\n",
       "       'Jockson', 'Josep', 'Lugan', 'Christoper'], dtype=object)"
      ]
     },
     "execution_count": 25,
     "metadata": {},
     "output_type": "execute_result"
    }
   ],
   "source": [
    "#check for unique dog names\n",
    "df_archive.name.unique()"
   ]
  },
  {
   "cell_type": "markdown",
   "metadata": {},
   "source": [
    "Inspecting what we have above we find names like **\"the\", \"this\", \"very\", \"my\",\"an\"** as names which should not be. "
   ]
  },
  {
   "cell_type": "code",
   "execution_count": 26,
   "metadata": {},
   "outputs": [
    {
     "data": {
      "text/plain": [
       "array(['<a href=\"http://twitter.com/download/iphone\" rel=\"nofollow\">Twitter for iPhone</a>',\n",
       "       '<a href=\"http://twitter.com\" rel=\"nofollow\">Twitter Web Client</a>',\n",
       "       '<a href=\"http://vine.co\" rel=\"nofollow\">Vine - Make a Scene</a>',\n",
       "       '<a href=\"https://about.twitter.com/products/tweetdeck\" rel=\"nofollow\">TweetDeck</a>'],\n",
       "      dtype=object)"
      ]
     },
     "execution_count": 26,
     "metadata": {},
     "output_type": "execute_result"
    }
   ],
   "source": [
    "#check for unqiue tweet sources\n",
    "df_archive.source.unique()"
   ]
  },
  {
   "cell_type": "code",
   "execution_count": 27,
   "metadata": {},
   "outputs": [
    {
     "data": {
      "text/plain": [
       "2356"
      ]
     },
     "execution_count": 27,
     "metadata": {},
     "output_type": "execute_result"
    }
   ],
   "source": [
    "#check number of unique tweet id's\n",
    "df_archive.tweet_id.nunique()"
   ]
  },
  {
   "cell_type": "markdown",
   "metadata": {},
   "source": [
    "<a id='QI'></a>\n",
    "### Quality issues\n",
    "\n",
    "Listed below are some of the quality issues found in the data frames\n",
    "\n",
    "- **df_archive**\n",
    "\n",
    "1. The name column contains values like \"a\",\"very\", \"the\" e.t.c which start with lowercase and are suspected not to be dog names, also we found 745 null values represented as \"None\".\n",
    "\n",
    "2. Null objects in columns(in_reply_to_status_id, in_reply_to_user_id) e.t.c represented as \"None\"\n",
    "\n",
    "3. The data type for the timestamp column is object when it should be a datetime.\n",
    "\n",
    "4. The tweet source should be extracted from the source column to reflect (Twitter for iphone, Twitter Web Client e.t.c)\n",
    "\n",
    "5. The columns in_reply_to_status_id and in_reply_to_user_id are missing 2278 values each **which might not need cleaning** as some tweets were tweeted directly with images from [WeRateDogs](https://twitter.com/dog_rates) account and they were not in reply to any tweet. Moreover we are only interested in original tweets so we will be dropping the observations in this column.\n",
    "\n",
    "6. Likewise the columns retweeted_status_id, retweeted_status_user_id and retweeted_status_timestamp are missing 2175 values each **which might also not need cleaning** will be treated as mentioned above, hence they will be dropped.\n",
    "\n",
    "- **df_image**\n",
    "\n",
    "7. This dataframe is missing 281 observations present in the `df_archive` dataframe.\n",
    "8. Rename p1, p1_conf and the other column headers to be more reflective column headers.\n",
    "9. Values in the p1, p2 and p3 columns sometimes start with uppercase and sometimes lowercase\n",
    "\n",
    "- **df_json**\n",
    "\n",
    "10. This dataframe is missing 29 observations which are present in the `df_archive` dataframe. "
   ]
  },
  {
   "cell_type": "markdown",
   "metadata": {
    "extensions": {
     "jupyter_dashboards": {
      "version": 1,
      "views": {
       "grid_default": {
        "col": 0,
        "height": 7,
        "hidden": false,
        "row": 40,
        "width": 12
       },
       "report_default": {
        "hidden": false
       }
      }
     }
    }
   },
   "source": [
    "<a id='TI'></a>\n",
    "### Tidiness issues\n",
    "\n",
    "- **df_archive**\n",
    "1. The dogstages(doggo,floofer,pupper,puppo) should be melted into one column\n",
    "\n",
    "- **df_image and df_json**\n",
    "2. This dataframes should be merged with the `df_archive` dataframe to ensure each observational unit forms a separate table and there is no duplication of information in various tables."
   ]
  },
  {
   "cell_type": "markdown",
   "metadata": {
    "extensions": {
     "jupyter_dashboards": {
      "version": 1,
      "views": {
       "grid_default": {
        "col": 4,
        "height": 4,
        "hidden": false,
        "row": 32,
        "width": 4
       },
       "report_default": {
        "hidden": false
       }
      }
     }
    }
   },
   "source": [
    "<a id='DC'></a>\n",
    "## Cleaning Data\n",
    "\n",
    "In this section, all of the issues documented while assessing will be addressed and cleaned. "
   ]
  },
  {
   "cell_type": "code",
   "execution_count": 28,
   "metadata": {},
   "outputs": [],
   "source": [
    "# Make copies of original pieces of data\n",
    "df_archive_clean = df_archive.copy()\n",
    "df_image_clean = df_image.copy()\n",
    "df_json_clean = df_json.copy()"
   ]
  },
  {
   "cell_type": "markdown",
   "metadata": {},
   "source": [
    "### Names with \"a\" and \"None\", \"very\" and all other lowercase characters\n",
    "\n",
    "I suspect the dognames were extracted using regular expressions matching words after \"This is\" or \"Here is\", \"Meet\" e.t.c Hence we will re-write the regular expressions to better match all names present and save result in a new column."
   ]
  },
  {
   "cell_type": "code",
   "execution_count": 29,
   "metadata": {},
   "outputs": [],
   "source": [
    "#create an empty list to store matched variables\n",
    "names = []\n",
    "#loop through series to match patterns\n",
    "for line in df_archive_clean['text']:\n",
    "    # Check if line startswith a text and succeeding character is uppercase\n",
    "    if line.startswith('This is ') and re.match(r'[A-Z].*', line.split()[2]):\n",
    "        names.append(line.split()[2].strip(',').strip('.').rstrip())\n",
    "    elif line.startswith('Meet ') and re.match(r'[A-Z].*', line.split()[1]):\n",
    "        names.append(line.split()[1].strip('.').strip(',').rstrip())\n",
    "    elif line.startswith('Say hello to ') and re.match(r'[A-z].*', line.split()[3]):\n",
    "        names.append(line.split()[3].strip('.').strip(',').rstrip())\n",
    "    elif line.startswith('His name is ') and re.match(r'[A-Z].*', line.split()[3]):\n",
    "        names.append(line.split()[3].strip(',').strip('.').rstrip())\n",
    "    elif line.startswith('Her name is ') and re.match(r'[A-Z].*', line.split()[3]):\n",
    "        names.append(line.split()[3].strip(',').strip('.').rstrip())\n",
    "    elif line.startswith('Here we have ') and re.match(r'[A-Z].*', line.split()[3]):\n",
    "        names.append(line.split()[3].strip(',').strip('.').rstrip())\n",
    "    #checks if \"named\" is in text and the succeeding character is uppercase\n",
    "    elif 'named' in line and re.match(r'[A-Z].*', line.split()[line.split().index('named') + 1]):\n",
    "        names.append(line.split()[line.split().index('named') +1].strip(',').strip('.').rstrip())\n",
    "    else:\n",
    "        names.append(\"None\")\n",
    "#create and save result in a new column\n",
    "df_archive_clean['names'] = names"
   ]
  },
  {
   "cell_type": "markdown",
   "metadata": {},
   "source": [
    "### Test"
   ]
  },
  {
   "cell_type": "code",
   "execution_count": 30,
   "metadata": {},
   "outputs": [
    {
     "data": {
      "text/plain": [
       "None       942\n",
       "Charlie     11\n",
       "Lucy        11\n",
       "Cooper      10\n",
       "Oliver      10\n",
       "          ... \n",
       "Hurley       1\n",
       "Jay          1\n",
       "Iroh         1\n",
       "Kuyu         1\n",
       "Obi          1\n",
       "Name: names, Length: 955, dtype: int64"
      ]
     },
     "execution_count": 30,
     "metadata": {},
     "output_type": "execute_result"
    }
   ],
   "source": [
    "#value count to confirm errors have been fixed\n",
    "df_archive_clean.names.value_counts()"
   ]
  },
  {
   "cell_type": "code",
   "execution_count": 31,
   "metadata": {},
   "outputs": [
    {
     "data": {
      "text/html": [
       "<div>\n",
       "<style scoped>\n",
       "    .dataframe tbody tr th:only-of-type {\n",
       "        vertical-align: middle;\n",
       "    }\n",
       "\n",
       "    .dataframe tbody tr th {\n",
       "        vertical-align: top;\n",
       "    }\n",
       "\n",
       "    .dataframe thead th {\n",
       "        text-align: right;\n",
       "    }\n",
       "</style>\n",
       "<table border=\"1\" class=\"dataframe\">\n",
       "  <thead>\n",
       "    <tr style=\"text-align: right;\">\n",
       "      <th></th>\n",
       "      <th>tweet_id</th>\n",
       "      <th>in_reply_to_status_id</th>\n",
       "      <th>in_reply_to_user_id</th>\n",
       "      <th>timestamp</th>\n",
       "      <th>source</th>\n",
       "      <th>text</th>\n",
       "      <th>retweeted_status_id</th>\n",
       "      <th>retweeted_status_user_id</th>\n",
       "      <th>retweeted_status_timestamp</th>\n",
       "      <th>expanded_urls</th>\n",
       "      <th>rating_numerator</th>\n",
       "      <th>rating_denominator</th>\n",
       "      <th>name</th>\n",
       "      <th>doggo</th>\n",
       "      <th>floofer</th>\n",
       "      <th>pupper</th>\n",
       "      <th>puppo</th>\n",
       "      <th>names</th>\n",
       "    </tr>\n",
       "  </thead>\n",
       "  <tbody>\n",
       "    <tr>\n",
       "      <th>0</th>\n",
       "      <td>892420643555336193</td>\n",
       "      <td>NaN</td>\n",
       "      <td>NaN</td>\n",
       "      <td>2017-08-01 16:23:56 +0000</td>\n",
       "      <td>&lt;a href=\"http://twitter.com/download/iphone\" r...</td>\n",
       "      <td>This is Phineas. He's a mystical boy. Only eve...</td>\n",
       "      <td>NaN</td>\n",
       "      <td>NaN</td>\n",
       "      <td>NaN</td>\n",
       "      <td>https://twitter.com/dog_rates/status/892420643...</td>\n",
       "      <td>13</td>\n",
       "      <td>10</td>\n",
       "      <td>Phineas</td>\n",
       "      <td>None</td>\n",
       "      <td>None</td>\n",
       "      <td>None</td>\n",
       "      <td>None</td>\n",
       "      <td>Phineas</td>\n",
       "    </tr>\n",
       "    <tr>\n",
       "      <th>1</th>\n",
       "      <td>892177421306343426</td>\n",
       "      <td>NaN</td>\n",
       "      <td>NaN</td>\n",
       "      <td>2017-08-01 00:17:27 +0000</td>\n",
       "      <td>&lt;a href=\"http://twitter.com/download/iphone\" r...</td>\n",
       "      <td>This is Tilly. She's just checking pup on you....</td>\n",
       "      <td>NaN</td>\n",
       "      <td>NaN</td>\n",
       "      <td>NaN</td>\n",
       "      <td>https://twitter.com/dog_rates/status/892177421...</td>\n",
       "      <td>13</td>\n",
       "      <td>10</td>\n",
       "      <td>Tilly</td>\n",
       "      <td>None</td>\n",
       "      <td>None</td>\n",
       "      <td>None</td>\n",
       "      <td>None</td>\n",
       "      <td>Tilly</td>\n",
       "    </tr>\n",
       "  </tbody>\n",
       "</table>\n",
       "</div>"
      ],
      "text/plain": [
       "             tweet_id  in_reply_to_status_id  in_reply_to_user_id  \\\n",
       "0  892420643555336193                    NaN                  NaN   \n",
       "1  892177421306343426                    NaN                  NaN   \n",
       "\n",
       "                   timestamp  \\\n",
       "0  2017-08-01 16:23:56 +0000   \n",
       "1  2017-08-01 00:17:27 +0000   \n",
       "\n",
       "                                              source  \\\n",
       "0  <a href=\"http://twitter.com/download/iphone\" r...   \n",
       "1  <a href=\"http://twitter.com/download/iphone\" r...   \n",
       "\n",
       "                                                text  retweeted_status_id  \\\n",
       "0  This is Phineas. He's a mystical boy. Only eve...                  NaN   \n",
       "1  This is Tilly. She's just checking pup on you....                  NaN   \n",
       "\n",
       "   retweeted_status_user_id retweeted_status_timestamp  \\\n",
       "0                       NaN                        NaN   \n",
       "1                       NaN                        NaN   \n",
       "\n",
       "                                       expanded_urls  rating_numerator  \\\n",
       "0  https://twitter.com/dog_rates/status/892420643...                13   \n",
       "1  https://twitter.com/dog_rates/status/892177421...                13   \n",
       "\n",
       "   rating_denominator     name doggo floofer pupper puppo    names  \n",
       "0                  10  Phineas  None    None   None  None  Phineas  \n",
       "1                  10    Tilly  None    None   None  None    Tilly  "
      ]
     },
     "execution_count": 31,
     "metadata": {},
     "output_type": "execute_result"
    }
   ],
   "source": [
    "#check if column \"names\" has been created\n",
    "df_archive_clean.head(2)"
   ]
  },
  {
   "cell_type": "markdown",
   "metadata": {},
   "source": [
    "To be sure all the lower case names and dirty words have been removed, I will generate the list from the **\"name\"** column and check for those in the newly created **\"names\"** column using regular expressions and a for loop, then proceed to drop the **\"name\"** column."
   ]
  },
  {
   "cell_type": "code",
   "execution_count": 32,
   "metadata": {},
   "outputs": [],
   "source": [
    "#extract names starting with lowercase\n",
    "names_lower = df_archive_clean.name.str.contains('^[a-z]', regex= True)"
   ]
  },
  {
   "cell_type": "code",
   "execution_count": 33,
   "metadata": {},
   "outputs": [
    {
     "data": {
      "text/plain": [
       "22       such\n",
       "56          a\n",
       "118     quite\n",
       "169     quite\n",
       "193     quite\n",
       "        ...  \n",
       "2349       an\n",
       "2350        a\n",
       "2352        a\n",
       "2353        a\n",
       "2354        a\n",
       "Name: name, Length: 109, dtype: object"
      ]
     },
     "execution_count": 33,
     "metadata": {},
     "output_type": "execute_result"
    }
   ],
   "source": [
    "#create list of lower case names\n",
    "dirty_words = df_archive_clean[names_lower].name\n",
    "dirty_words"
   ]
  },
  {
   "cell_type": "code",
   "execution_count": 34,
   "metadata": {},
   "outputs": [
    {
     "name": "stdout",
     "output_type": "stream",
     "text": [
      "squeaky clean\n",
      "squeaky clean\n",
      "squeaky clean\n",
      "squeaky clean\n",
      "squeaky clean\n",
      "squeaky clean\n",
      "squeaky clean\n",
      "squeaky clean\n",
      "squeaky clean\n",
      "squeaky clean\n",
      "squeaky clean\n",
      "squeaky clean\n",
      "squeaky clean\n",
      "squeaky clean\n",
      "squeaky clean\n",
      "squeaky clean\n",
      "squeaky clean\n",
      "squeaky clean\n",
      "squeaky clean\n",
      "squeaky clean\n",
      "squeaky clean\n",
      "squeaky clean\n",
      "squeaky clean\n",
      "squeaky clean\n",
      "squeaky clean\n",
      "squeaky clean\n",
      "squeaky clean\n",
      "squeaky clean\n",
      "squeaky clean\n",
      "squeaky clean\n",
      "squeaky clean\n",
      "squeaky clean\n",
      "squeaky clean\n",
      "squeaky clean\n",
      "squeaky clean\n",
      "squeaky clean\n",
      "squeaky clean\n",
      "squeaky clean\n",
      "squeaky clean\n",
      "squeaky clean\n",
      "squeaky clean\n",
      "squeaky clean\n",
      "squeaky clean\n",
      "squeaky clean\n",
      "squeaky clean\n",
      "squeaky clean\n",
      "squeaky clean\n",
      "squeaky clean\n",
      "squeaky clean\n",
      "squeaky clean\n",
      "squeaky clean\n",
      "squeaky clean\n",
      "squeaky clean\n",
      "squeaky clean\n",
      "squeaky clean\n",
      "squeaky clean\n",
      "squeaky clean\n",
      "squeaky clean\n",
      "squeaky clean\n",
      "squeaky clean\n",
      "squeaky clean\n",
      "squeaky clean\n",
      "squeaky clean\n",
      "squeaky clean\n",
      "squeaky clean\n",
      "squeaky clean\n",
      "squeaky clean\n",
      "squeaky clean\n",
      "squeaky clean\n",
      "squeaky clean\n",
      "squeaky clean\n",
      "squeaky clean\n",
      "squeaky clean\n",
      "squeaky clean\n",
      "squeaky clean\n",
      "squeaky clean\n",
      "squeaky clean\n",
      "squeaky clean\n",
      "squeaky clean\n",
      "squeaky clean\n",
      "squeaky clean\n",
      "squeaky clean\n",
      "squeaky clean\n",
      "squeaky clean\n",
      "squeaky clean\n",
      "squeaky clean\n",
      "squeaky clean\n",
      "squeaky clean\n",
      "squeaky clean\n",
      "squeaky clean\n",
      "squeaky clean\n",
      "squeaky clean\n",
      "squeaky clean\n",
      "squeaky clean\n",
      "squeaky clean\n",
      "squeaky clean\n",
      "squeaky clean\n",
      "squeaky clean\n",
      "squeaky clean\n",
      "squeaky clean\n",
      "squeaky clean\n",
      "squeaky clean\n",
      "squeaky clean\n",
      "squeaky clean\n",
      "squeaky clean\n",
      "squeaky clean\n",
      "squeaky clean\n",
      "squeaky clean\n",
      "squeaky clean\n"
     ]
    }
   ],
   "source": [
    "#loop through the dirty words, search for words in newly created names\n",
    "for word in dirty_words:\n",
    "    if word in df_archive_clean['names']:\n",
    "        print (\"dirty data\")\n",
    "    else:\n",
    "        print (\"squeaky clean\")"
   ]
  },
  {
   "cell_type": "code",
   "execution_count": 35,
   "metadata": {},
   "outputs": [],
   "source": [
    "#drop the name column\n",
    "df_archive_clean.drop(columns=[\"name\"], axis= 1, inplace= True)"
   ]
  },
  {
   "cell_type": "markdown",
   "metadata": {},
   "source": [
    "### Null objects represented as \"None\" in dataframe"
   ]
  },
  {
   "cell_type": "markdown",
   "metadata": {},
   "source": [
    "Define: Change Nulls to NAN so they don't affect our analysis\n",
    "\n",
    "### Code"
   ]
  },
  {
   "cell_type": "code",
   "execution_count": 36,
   "metadata": {},
   "outputs": [],
   "source": [
    "df_archive_clean['names'].replace('None', np.NAN, inplace =True)\n",
    "df_archive_clean['doggo'].replace('None', np.NAN, inplace =True)\n",
    "df_archive_clean['floofer'].replace('None', np.NAN, inplace =True)\n",
    "df_archive_clean['pupper'].replace('None', np.NAN, inplace =True)\n",
    "df_archive_clean['puppo'].replace('None', np.NAN, inplace =True)"
   ]
  },
  {
   "cell_type": "markdown",
   "metadata": {},
   "source": [
    "### Test"
   ]
  },
  {
   "cell_type": "code",
   "execution_count": 37,
   "metadata": {},
   "outputs": [
    {
     "data": {
      "text/html": [
       "<div>\n",
       "<style scoped>\n",
       "    .dataframe tbody tr th:only-of-type {\n",
       "        vertical-align: middle;\n",
       "    }\n",
       "\n",
       "    .dataframe tbody tr th {\n",
       "        vertical-align: top;\n",
       "    }\n",
       "\n",
       "    .dataframe thead th {\n",
       "        text-align: right;\n",
       "    }\n",
       "</style>\n",
       "<table border=\"1\" class=\"dataframe\">\n",
       "  <thead>\n",
       "    <tr style=\"text-align: right;\">\n",
       "      <th></th>\n",
       "      <th>tweet_id</th>\n",
       "      <th>in_reply_to_status_id</th>\n",
       "      <th>in_reply_to_user_id</th>\n",
       "      <th>timestamp</th>\n",
       "      <th>source</th>\n",
       "      <th>text</th>\n",
       "      <th>retweeted_status_id</th>\n",
       "      <th>retweeted_status_user_id</th>\n",
       "      <th>retweeted_status_timestamp</th>\n",
       "      <th>expanded_urls</th>\n",
       "      <th>rating_numerator</th>\n",
       "      <th>rating_denominator</th>\n",
       "      <th>doggo</th>\n",
       "      <th>floofer</th>\n",
       "      <th>pupper</th>\n",
       "      <th>puppo</th>\n",
       "      <th>names</th>\n",
       "    </tr>\n",
       "  </thead>\n",
       "  <tbody>\n",
       "    <tr>\n",
       "      <th>0</th>\n",
       "      <td>892420643555336193</td>\n",
       "      <td>NaN</td>\n",
       "      <td>NaN</td>\n",
       "      <td>2017-08-01 16:23:56 +0000</td>\n",
       "      <td>&lt;a href=\"http://twitter.com/download/iphone\" r...</td>\n",
       "      <td>This is Phineas. He's a mystical boy. Only eve...</td>\n",
       "      <td>NaN</td>\n",
       "      <td>NaN</td>\n",
       "      <td>NaN</td>\n",
       "      <td>https://twitter.com/dog_rates/status/892420643...</td>\n",
       "      <td>13</td>\n",
       "      <td>10</td>\n",
       "      <td>NaN</td>\n",
       "      <td>NaN</td>\n",
       "      <td>NaN</td>\n",
       "      <td>NaN</td>\n",
       "      <td>Phineas</td>\n",
       "    </tr>\n",
       "    <tr>\n",
       "      <th>1</th>\n",
       "      <td>892177421306343426</td>\n",
       "      <td>NaN</td>\n",
       "      <td>NaN</td>\n",
       "      <td>2017-08-01 00:17:27 +0000</td>\n",
       "      <td>&lt;a href=\"http://twitter.com/download/iphone\" r...</td>\n",
       "      <td>This is Tilly. She's just checking pup on you....</td>\n",
       "      <td>NaN</td>\n",
       "      <td>NaN</td>\n",
       "      <td>NaN</td>\n",
       "      <td>https://twitter.com/dog_rates/status/892177421...</td>\n",
       "      <td>13</td>\n",
       "      <td>10</td>\n",
       "      <td>NaN</td>\n",
       "      <td>NaN</td>\n",
       "      <td>NaN</td>\n",
       "      <td>NaN</td>\n",
       "      <td>Tilly</td>\n",
       "    </tr>\n",
       "    <tr>\n",
       "      <th>2</th>\n",
       "      <td>891815181378084864</td>\n",
       "      <td>NaN</td>\n",
       "      <td>NaN</td>\n",
       "      <td>2017-07-31 00:18:03 +0000</td>\n",
       "      <td>&lt;a href=\"http://twitter.com/download/iphone\" r...</td>\n",
       "      <td>This is Archie. He is a rare Norwegian Pouncin...</td>\n",
       "      <td>NaN</td>\n",
       "      <td>NaN</td>\n",
       "      <td>NaN</td>\n",
       "      <td>https://twitter.com/dog_rates/status/891815181...</td>\n",
       "      <td>12</td>\n",
       "      <td>10</td>\n",
       "      <td>NaN</td>\n",
       "      <td>NaN</td>\n",
       "      <td>NaN</td>\n",
       "      <td>NaN</td>\n",
       "      <td>Archie</td>\n",
       "    </tr>\n",
       "    <tr>\n",
       "      <th>3</th>\n",
       "      <td>891689557279858688</td>\n",
       "      <td>NaN</td>\n",
       "      <td>NaN</td>\n",
       "      <td>2017-07-30 15:58:51 +0000</td>\n",
       "      <td>&lt;a href=\"http://twitter.com/download/iphone\" r...</td>\n",
       "      <td>This is Darla. She commenced a snooze mid meal...</td>\n",
       "      <td>NaN</td>\n",
       "      <td>NaN</td>\n",
       "      <td>NaN</td>\n",
       "      <td>https://twitter.com/dog_rates/status/891689557...</td>\n",
       "      <td>13</td>\n",
       "      <td>10</td>\n",
       "      <td>NaN</td>\n",
       "      <td>NaN</td>\n",
       "      <td>NaN</td>\n",
       "      <td>NaN</td>\n",
       "      <td>Darla</td>\n",
       "    </tr>\n",
       "    <tr>\n",
       "      <th>4</th>\n",
       "      <td>891327558926688256</td>\n",
       "      <td>NaN</td>\n",
       "      <td>NaN</td>\n",
       "      <td>2017-07-29 16:00:24 +0000</td>\n",
       "      <td>&lt;a href=\"http://twitter.com/download/iphone\" r...</td>\n",
       "      <td>This is Franklin. He would like you to stop ca...</td>\n",
       "      <td>NaN</td>\n",
       "      <td>NaN</td>\n",
       "      <td>NaN</td>\n",
       "      <td>https://twitter.com/dog_rates/status/891327558...</td>\n",
       "      <td>12</td>\n",
       "      <td>10</td>\n",
       "      <td>NaN</td>\n",
       "      <td>NaN</td>\n",
       "      <td>NaN</td>\n",
       "      <td>NaN</td>\n",
       "      <td>Franklin</td>\n",
       "    </tr>\n",
       "  </tbody>\n",
       "</table>\n",
       "</div>"
      ],
      "text/plain": [
       "             tweet_id  in_reply_to_status_id  in_reply_to_user_id  \\\n",
       "0  892420643555336193                    NaN                  NaN   \n",
       "1  892177421306343426                    NaN                  NaN   \n",
       "2  891815181378084864                    NaN                  NaN   \n",
       "3  891689557279858688                    NaN                  NaN   \n",
       "4  891327558926688256                    NaN                  NaN   \n",
       "\n",
       "                   timestamp  \\\n",
       "0  2017-08-01 16:23:56 +0000   \n",
       "1  2017-08-01 00:17:27 +0000   \n",
       "2  2017-07-31 00:18:03 +0000   \n",
       "3  2017-07-30 15:58:51 +0000   \n",
       "4  2017-07-29 16:00:24 +0000   \n",
       "\n",
       "                                              source  \\\n",
       "0  <a href=\"http://twitter.com/download/iphone\" r...   \n",
       "1  <a href=\"http://twitter.com/download/iphone\" r...   \n",
       "2  <a href=\"http://twitter.com/download/iphone\" r...   \n",
       "3  <a href=\"http://twitter.com/download/iphone\" r...   \n",
       "4  <a href=\"http://twitter.com/download/iphone\" r...   \n",
       "\n",
       "                                                text  retweeted_status_id  \\\n",
       "0  This is Phineas. He's a mystical boy. Only eve...                  NaN   \n",
       "1  This is Tilly. She's just checking pup on you....                  NaN   \n",
       "2  This is Archie. He is a rare Norwegian Pouncin...                  NaN   \n",
       "3  This is Darla. She commenced a snooze mid meal...                  NaN   \n",
       "4  This is Franklin. He would like you to stop ca...                  NaN   \n",
       "\n",
       "   retweeted_status_user_id retweeted_status_timestamp  \\\n",
       "0                       NaN                        NaN   \n",
       "1                       NaN                        NaN   \n",
       "2                       NaN                        NaN   \n",
       "3                       NaN                        NaN   \n",
       "4                       NaN                        NaN   \n",
       "\n",
       "                                       expanded_urls  rating_numerator  \\\n",
       "0  https://twitter.com/dog_rates/status/892420643...                13   \n",
       "1  https://twitter.com/dog_rates/status/892177421...                13   \n",
       "2  https://twitter.com/dog_rates/status/891815181...                12   \n",
       "3  https://twitter.com/dog_rates/status/891689557...                13   \n",
       "4  https://twitter.com/dog_rates/status/891327558...                12   \n",
       "\n",
       "   rating_denominator doggo floofer pupper puppo     names  \n",
       "0                  10   NaN     NaN    NaN   NaN   Phineas  \n",
       "1                  10   NaN     NaN    NaN   NaN     Tilly  \n",
       "2                  10   NaN     NaN    NaN   NaN    Archie  \n",
       "3                  10   NaN     NaN    NaN   NaN     Darla  \n",
       "4                  10   NaN     NaN    NaN   NaN  Franklin  "
      ]
     },
     "execution_count": 37,
     "metadata": {},
     "output_type": "execute_result"
    }
   ],
   "source": [
    "df_archive_clean.head()"
   ]
  },
  {
   "cell_type": "markdown",
   "metadata": {},
   "source": [
    "### Object to Datetime"
   ]
  },
  {
   "cell_type": "markdown",
   "metadata": {},
   "source": [
    "Define: Using pandas convert the timestamp in the df_archive dataframe to datetime\n",
    "\n",
    "### Code"
   ]
  },
  {
   "cell_type": "code",
   "execution_count": 38,
   "metadata": {},
   "outputs": [],
   "source": [
    "#change timestamp datatype\n",
    "df_archive_clean['timestamp'] = pd.to_datetime(df_archive_clean['timestamp'])"
   ]
  },
  {
   "cell_type": "markdown",
   "metadata": {},
   "source": [
    "### Test"
   ]
  },
  {
   "cell_type": "code",
   "execution_count": 39,
   "metadata": {},
   "outputs": [
    {
     "name": "stdout",
     "output_type": "stream",
     "text": [
      "<class 'pandas.core.frame.DataFrame'>\n",
      "RangeIndex: 2356 entries, 0 to 2355\n",
      "Data columns (total 17 columns):\n",
      " #   Column                      Non-Null Count  Dtype              \n",
      "---  ------                      --------------  -----              \n",
      " 0   tweet_id                    2356 non-null   int64              \n",
      " 1   in_reply_to_status_id       78 non-null     float64            \n",
      " 2   in_reply_to_user_id         78 non-null     float64            \n",
      " 3   timestamp                   2356 non-null   datetime64[ns, UTC]\n",
      " 4   source                      2356 non-null   object             \n",
      " 5   text                        2356 non-null   object             \n",
      " 6   retweeted_status_id         181 non-null    float64            \n",
      " 7   retweeted_status_user_id    181 non-null    float64            \n",
      " 8   retweeted_status_timestamp  181 non-null    object             \n",
      " 9   expanded_urls               2297 non-null   object             \n",
      " 10  rating_numerator            2356 non-null   int64              \n",
      " 11  rating_denominator          2356 non-null   int64              \n",
      " 12  doggo                       97 non-null     object             \n",
      " 13  floofer                     10 non-null     object             \n",
      " 14  pupper                      257 non-null    object             \n",
      " 15  puppo                       30 non-null     object             \n",
      " 16  names                       1414 non-null   object             \n",
      "dtypes: datetime64[ns, UTC](1), float64(4), int64(3), object(9)\n",
      "memory usage: 313.0+ KB\n"
     ]
    }
   ],
   "source": [
    "#check datatype and structure\n",
    "df_archive_clean.info()"
   ]
  },
  {
   "cell_type": "markdown",
   "metadata": {},
   "source": [
    "### Clean tweet source\n",
    "\n",
    "Define: Extract tweet source from html tag"
   ]
  },
  {
   "cell_type": "markdown",
   "metadata": {},
   "source": [
    "### Code"
   ]
  },
  {
   "cell_type": "code",
   "execution_count": 40,
   "metadata": {},
   "outputs": [],
   "source": [
    "#using regular expression extract tweet source\n",
    "df_archive_clean['source'] = df_archive_clean['source'].str.extract('^<a.+>(.+)</a>$')"
   ]
  },
  {
   "cell_type": "markdown",
   "metadata": {},
   "source": [
    "### Test"
   ]
  },
  {
   "cell_type": "code",
   "execution_count": 41,
   "metadata": {},
   "outputs": [
    {
     "data": {
      "text/plain": [
       "array(['Twitter for iPhone', 'Twitter Web Client', 'Vine - Make a Scene',\n",
       "       'TweetDeck'], dtype=object)"
      ]
     },
     "execution_count": 41,
     "metadata": {},
     "output_type": "execute_result"
    }
   ],
   "source": [
    "#check if tweet sources matched\n",
    "df_archive_clean['source'].unique()"
   ]
  },
  {
   "cell_type": "markdown",
   "metadata": {},
   "source": [
    "### Rename columns\n",
    "\n",
    "Define: using pandas rename p1, p1_conf and p1_dog to be more reflective column headers\n",
    "\n",
    "### Code"
   ]
  },
  {
   "cell_type": "code",
   "execution_count": 42,
   "metadata": {},
   "outputs": [],
   "source": [
    "#rename columns in image prediction data\n",
    "df_image_clean.rename(columns= {\"p1\": \"prediction_one\",\"p1_conf\":\"prediction_one_confidence\",\"p1_dog\":\"prediction_one_is_dog\",\n",
    "                               \"p2\":\"prediction_two\",\"p2_conf\":\"prediction_two_confidence\",\"p2_dog\":\"prediction_two_is_dog\",\n",
    "                               \"p3\":\"prediction_three\",\"p3_conf\":\"prediction_three_confidence\",\"p3_dog\":\"prediction_three_is_dog\"}, inplace= True)"
   ]
  },
  {
   "cell_type": "markdown",
   "metadata": {},
   "source": [
    "### Test"
   ]
  },
  {
   "cell_type": "code",
   "execution_count": 43,
   "metadata": {},
   "outputs": [
    {
     "data": {
      "text/html": [
       "<div>\n",
       "<style scoped>\n",
       "    .dataframe tbody tr th:only-of-type {\n",
       "        vertical-align: middle;\n",
       "    }\n",
       "\n",
       "    .dataframe tbody tr th {\n",
       "        vertical-align: top;\n",
       "    }\n",
       "\n",
       "    .dataframe thead th {\n",
       "        text-align: right;\n",
       "    }\n",
       "</style>\n",
       "<table border=\"1\" class=\"dataframe\">\n",
       "  <thead>\n",
       "    <tr style=\"text-align: right;\">\n",
       "      <th></th>\n",
       "      <th>tweet_id</th>\n",
       "      <th>jpg_url</th>\n",
       "      <th>img_num</th>\n",
       "      <th>prediction_one</th>\n",
       "      <th>prediction_one_confidence</th>\n",
       "      <th>prediction_one_is_dog</th>\n",
       "      <th>prediction_two</th>\n",
       "      <th>prediction_two_confidence</th>\n",
       "      <th>prediction_two_is_dog</th>\n",
       "      <th>prediction_three</th>\n",
       "      <th>prediction_three_confidence</th>\n",
       "      <th>prediction_three_is_dog</th>\n",
       "    </tr>\n",
       "  </thead>\n",
       "  <tbody>\n",
       "    <tr>\n",
       "      <th>0</th>\n",
       "      <td>666020888022790149</td>\n",
       "      <td>https://pbs.twimg.com/media/CT4udn0WwAA0aMy.jpg</td>\n",
       "      <td>1</td>\n",
       "      <td>Welsh_springer_spaniel</td>\n",
       "      <td>0.465074</td>\n",
       "      <td>True</td>\n",
       "      <td>collie</td>\n",
       "      <td>0.156665</td>\n",
       "      <td>True</td>\n",
       "      <td>Shetland_sheepdog</td>\n",
       "      <td>0.061428</td>\n",
       "      <td>True</td>\n",
       "    </tr>\n",
       "    <tr>\n",
       "      <th>1</th>\n",
       "      <td>666029285002620928</td>\n",
       "      <td>https://pbs.twimg.com/media/CT42GRgUYAA5iDo.jpg</td>\n",
       "      <td>1</td>\n",
       "      <td>redbone</td>\n",
       "      <td>0.506826</td>\n",
       "      <td>True</td>\n",
       "      <td>miniature_pinscher</td>\n",
       "      <td>0.074192</td>\n",
       "      <td>True</td>\n",
       "      <td>Rhodesian_ridgeback</td>\n",
       "      <td>0.072010</td>\n",
       "      <td>True</td>\n",
       "    </tr>\n",
       "    <tr>\n",
       "      <th>2</th>\n",
       "      <td>666033412701032449</td>\n",
       "      <td>https://pbs.twimg.com/media/CT4521TWwAEvMyu.jpg</td>\n",
       "      <td>1</td>\n",
       "      <td>German_shepherd</td>\n",
       "      <td>0.596461</td>\n",
       "      <td>True</td>\n",
       "      <td>malinois</td>\n",
       "      <td>0.138584</td>\n",
       "      <td>True</td>\n",
       "      <td>bloodhound</td>\n",
       "      <td>0.116197</td>\n",
       "      <td>True</td>\n",
       "    </tr>\n",
       "    <tr>\n",
       "      <th>3</th>\n",
       "      <td>666044226329800704</td>\n",
       "      <td>https://pbs.twimg.com/media/CT5Dr8HUEAA-lEu.jpg</td>\n",
       "      <td>1</td>\n",
       "      <td>Rhodesian_ridgeback</td>\n",
       "      <td>0.408143</td>\n",
       "      <td>True</td>\n",
       "      <td>redbone</td>\n",
       "      <td>0.360687</td>\n",
       "      <td>True</td>\n",
       "      <td>miniature_pinscher</td>\n",
       "      <td>0.222752</td>\n",
       "      <td>True</td>\n",
       "    </tr>\n",
       "    <tr>\n",
       "      <th>4</th>\n",
       "      <td>666049248165822465</td>\n",
       "      <td>https://pbs.twimg.com/media/CT5IQmsXIAAKY4A.jpg</td>\n",
       "      <td>1</td>\n",
       "      <td>miniature_pinscher</td>\n",
       "      <td>0.560311</td>\n",
       "      <td>True</td>\n",
       "      <td>Rottweiler</td>\n",
       "      <td>0.243682</td>\n",
       "      <td>True</td>\n",
       "      <td>Doberman</td>\n",
       "      <td>0.154629</td>\n",
       "      <td>True</td>\n",
       "    </tr>\n",
       "  </tbody>\n",
       "</table>\n",
       "</div>"
      ],
      "text/plain": [
       "             tweet_id                                          jpg_url  \\\n",
       "0  666020888022790149  https://pbs.twimg.com/media/CT4udn0WwAA0aMy.jpg   \n",
       "1  666029285002620928  https://pbs.twimg.com/media/CT42GRgUYAA5iDo.jpg   \n",
       "2  666033412701032449  https://pbs.twimg.com/media/CT4521TWwAEvMyu.jpg   \n",
       "3  666044226329800704  https://pbs.twimg.com/media/CT5Dr8HUEAA-lEu.jpg   \n",
       "4  666049248165822465  https://pbs.twimg.com/media/CT5IQmsXIAAKY4A.jpg   \n",
       "\n",
       "   img_num          prediction_one  prediction_one_confidence  \\\n",
       "0        1  Welsh_springer_spaniel                   0.465074   \n",
       "1        1                 redbone                   0.506826   \n",
       "2        1         German_shepherd                   0.596461   \n",
       "3        1     Rhodesian_ridgeback                   0.408143   \n",
       "4        1      miniature_pinscher                   0.560311   \n",
       "\n",
       "   prediction_one_is_dog      prediction_two  prediction_two_confidence  \\\n",
       "0                   True              collie                   0.156665   \n",
       "1                   True  miniature_pinscher                   0.074192   \n",
       "2                   True            malinois                   0.138584   \n",
       "3                   True             redbone                   0.360687   \n",
       "4                   True          Rottweiler                   0.243682   \n",
       "\n",
       "   prediction_two_is_dog     prediction_three  prediction_three_confidence  \\\n",
       "0                   True    Shetland_sheepdog                     0.061428   \n",
       "1                   True  Rhodesian_ridgeback                     0.072010   \n",
       "2                   True           bloodhound                     0.116197   \n",
       "3                   True   miniature_pinscher                     0.222752   \n",
       "4                   True             Doberman                     0.154629   \n",
       "\n",
       "   prediction_three_is_dog  \n",
       "0                     True  \n",
       "1                     True  \n",
       "2                     True  \n",
       "3                     True  \n",
       "4                     True  "
      ]
     },
     "execution_count": 43,
     "metadata": {},
     "output_type": "execute_result"
    }
   ],
   "source": [
    "#confirm column headers were renamed\n",
    "df_image_clean.head()"
   ]
  },
  {
   "cell_type": "markdown",
   "metadata": {},
   "source": [
    "### Melt the dogstages into one column\n",
    "\n",
    "Define: Combine floofer, doggo, pupperand puppo into one column indicating dog stage\n",
    "\n",
    "### Code"
   ]
  },
  {
   "cell_type": "markdown",
   "metadata": {},
   "source": [
    "There are instances where there are multiple dog stages for one observation, we will put this into consideration before joining the columns. To ensure we can perform a count we will first replace all the null values with empty strings."
   ]
  },
  {
   "cell_type": "code",
   "execution_count": 44,
   "metadata": {},
   "outputs": [],
   "source": [
    "#replace null values with empty strings\n",
    "df_archive_clean.doggo.replace(np.NaN, '', inplace=True)\n",
    "df_archive_clean.floofer.replace(np.NaN, '', inplace=True)\n",
    "df_archive_clean.pupper.replace(np.NaN, '', inplace=True)\n",
    "df_archive_clean.puppo.replace(np.NaN, '', inplace=True)"
   ]
  },
  {
   "cell_type": "code",
   "execution_count": 45,
   "metadata": {},
   "outputs": [
    {
     "data": {
      "text/html": [
       "<div>\n",
       "<style scoped>\n",
       "    .dataframe tbody tr th:only-of-type {\n",
       "        vertical-align: middle;\n",
       "    }\n",
       "\n",
       "    .dataframe tbody tr th {\n",
       "        vertical-align: top;\n",
       "    }\n",
       "\n",
       "    .dataframe thead th {\n",
       "        text-align: right;\n",
       "    }\n",
       "</style>\n",
       "<table border=\"1\" class=\"dataframe\">\n",
       "  <thead>\n",
       "    <tr style=\"text-align: right;\">\n",
       "      <th></th>\n",
       "      <th>doggo</th>\n",
       "      <th>floofer</th>\n",
       "      <th>pupper</th>\n",
       "      <th>puppo</th>\n",
       "      <th>count</th>\n",
       "    </tr>\n",
       "  </thead>\n",
       "  <tbody>\n",
       "    <tr>\n",
       "      <th>0</th>\n",
       "      <td></td>\n",
       "      <td></td>\n",
       "      <td></td>\n",
       "      <td></td>\n",
       "      <td>1976</td>\n",
       "    </tr>\n",
       "    <tr>\n",
       "      <th>1</th>\n",
       "      <td></td>\n",
       "      <td></td>\n",
       "      <td></td>\n",
       "      <td>puppo</td>\n",
       "      <td>29</td>\n",
       "    </tr>\n",
       "    <tr>\n",
       "      <th>2</th>\n",
       "      <td></td>\n",
       "      <td></td>\n",
       "      <td>pupper</td>\n",
       "      <td></td>\n",
       "      <td>245</td>\n",
       "    </tr>\n",
       "    <tr>\n",
       "      <th>3</th>\n",
       "      <td></td>\n",
       "      <td>floofer</td>\n",
       "      <td></td>\n",
       "      <td></td>\n",
       "      <td>9</td>\n",
       "    </tr>\n",
       "    <tr>\n",
       "      <th>4</th>\n",
       "      <td>doggo</td>\n",
       "      <td></td>\n",
       "      <td></td>\n",
       "      <td></td>\n",
       "      <td>83</td>\n",
       "    </tr>\n",
       "    <tr>\n",
       "      <th>5</th>\n",
       "      <td>doggo</td>\n",
       "      <td></td>\n",
       "      <td></td>\n",
       "      <td>puppo</td>\n",
       "      <td>1</td>\n",
       "    </tr>\n",
       "    <tr>\n",
       "      <th>6</th>\n",
       "      <td>doggo</td>\n",
       "      <td></td>\n",
       "      <td>pupper</td>\n",
       "      <td></td>\n",
       "      <td>12</td>\n",
       "    </tr>\n",
       "    <tr>\n",
       "      <th>7</th>\n",
       "      <td>doggo</td>\n",
       "      <td>floofer</td>\n",
       "      <td></td>\n",
       "      <td></td>\n",
       "      <td>1</td>\n",
       "    </tr>\n",
       "  </tbody>\n",
       "</table>\n",
       "</div>"
      ],
      "text/plain": [
       "   doggo  floofer  pupper  puppo  count\n",
       "0                                  1976\n",
       "1                          puppo     29\n",
       "2                  pupper           245\n",
       "3         floofer                     9\n",
       "4  doggo                             83\n",
       "5  doggo                   puppo      1\n",
       "6  doggo           pupper            12\n",
       "7  doggo  floofer                     1"
      ]
     },
     "execution_count": 45,
     "metadata": {},
     "output_type": "execute_result"
    }
   ],
   "source": [
    "#group observations by dog stages and get number of each arrangement\n",
    "df_archive_clean.groupby([\"doggo\", \"floofer\", \"pupper\", \"puppo\"]).size().reset_index().rename(columns={0: \"count\"})"
   ]
  },
  {
   "cell_type": "markdown",
   "metadata": {},
   "source": [
    "Next we create the stage column and melt doggo, floofer, puppo and pupper columns into the stage column"
   ]
  },
  {
   "cell_type": "code",
   "execution_count": 46,
   "metadata": {},
   "outputs": [],
   "source": [
    "#create stage column and melt all columns into stage column\n",
    "df_archive_clean['stage'] = df_archive_clean.doggo + df_archive_clean.floofer + df_archive_clean.pupper + df_archive_clean.puppo\n",
    "df_archive_clean.loc[df_archive_clean.stage == 'doggopupper', 'stage'] = 'doggo, pupper'\n",
    "df_archive_clean.loc[df_archive_clean.stage == 'doggopuppo', 'stage'] = 'doggo, puppo'\n",
    "df_archive_clean.loc[df_archive_clean.stage == 'doggofloofer', 'stage'] = 'doggo, floofer'"
   ]
  },
  {
   "cell_type": "code",
   "execution_count": 47,
   "metadata": {},
   "outputs": [
    {
     "data": {
      "text/plain": [
       "                  1976\n",
       "pupper             245\n",
       "doggo               83\n",
       "puppo               29\n",
       "doggo, pupper       12\n",
       "floofer              9\n",
       "doggo, puppo         1\n",
       "doggo, floofer       1\n",
       "Name: stage, dtype: int64"
      ]
     },
     "execution_count": 47,
     "metadata": {},
     "output_type": "execute_result"
    }
   ],
   "source": [
    "#confirm values in stage column\n",
    "df_archive_clean.stage.value_counts()"
   ]
  },
  {
   "cell_type": "code",
   "execution_count": 48,
   "metadata": {},
   "outputs": [],
   "source": [
    "#drop columns doggo, floofer, pupper, puppo\n",
    "df_archive_clean.drop(columns= ['doggo','floofer','pupper','puppo'], axis= 1, inplace= True)"
   ]
  },
  {
   "cell_type": "code",
   "execution_count": 49,
   "metadata": {},
   "outputs": [
    {
     "name": "stdout",
     "output_type": "stream",
     "text": [
      "<class 'pandas.core.frame.DataFrame'>\n",
      "RangeIndex: 2356 entries, 0 to 2355\n",
      "Data columns (total 14 columns):\n",
      " #   Column                      Non-Null Count  Dtype              \n",
      "---  ------                      --------------  -----              \n",
      " 0   tweet_id                    2356 non-null   int64              \n",
      " 1   in_reply_to_status_id       78 non-null     float64            \n",
      " 2   in_reply_to_user_id         78 non-null     float64            \n",
      " 3   timestamp                   2356 non-null   datetime64[ns, UTC]\n",
      " 4   source                      2356 non-null   object             \n",
      " 5   text                        2356 non-null   object             \n",
      " 6   retweeted_status_id         181 non-null    float64            \n",
      " 7   retweeted_status_user_id    181 non-null    float64            \n",
      " 8   retweeted_status_timestamp  181 non-null    object             \n",
      " 9   expanded_urls               2297 non-null   object             \n",
      " 10  rating_numerator            2356 non-null   int64              \n",
      " 11  rating_denominator          2356 non-null   int64              \n",
      " 12  names                       1414 non-null   object             \n",
      " 13  stage                       2356 non-null   object             \n",
      "dtypes: datetime64[ns, UTC](1), float64(4), int64(3), object(6)\n",
      "memory usage: 257.8+ KB\n"
     ]
    }
   ],
   "source": [
    "#check structure\n",
    "df_archive_clean.info()"
   ]
  },
  {
   "cell_type": "markdown",
   "metadata": {},
   "source": [
    "Perfect!!!, the dogstages have been combined into one column, I will proceed to replacing the empty strings with null values, so they don't show up in our analysis as true values."
   ]
  },
  {
   "cell_type": "code",
   "execution_count": 50,
   "metadata": {},
   "outputs": [],
   "source": [
    "df_archive_clean.stage.replace('', np.NaN, inplace=True)"
   ]
  },
  {
   "cell_type": "markdown",
   "metadata": {},
   "source": [
    "### Test"
   ]
  },
  {
   "cell_type": "code",
   "execution_count": 51,
   "metadata": {},
   "outputs": [
    {
     "data": {
      "text/plain": [
       "array([nan, 'doggo', 'puppo', 'pupper', 'floofer', 'doggo, puppo',\n",
       "       'doggo, floofer', 'doggo, pupper'], dtype=object)"
      ]
     },
     "execution_count": 51,
     "metadata": {},
     "output_type": "execute_result"
    }
   ],
   "source": [
    "#check for unique values in dog stage\n",
    "df_archive_clean.stage.unique()"
   ]
  },
  {
   "cell_type": "code",
   "execution_count": 52,
   "metadata": {},
   "outputs": [
    {
     "data": {
      "text/plain": [
       "pupper            245\n",
       "doggo              83\n",
       "puppo              29\n",
       "doggo, pupper      12\n",
       "floofer             9\n",
       "doggo, puppo        1\n",
       "doggo, floofer      1\n",
       "Name: stage, dtype: int64"
      ]
     },
     "execution_count": 52,
     "metadata": {},
     "output_type": "execute_result"
    }
   ],
   "source": [
    "#value counts in dog stage\n",
    "df_archive_clean.stage.value_counts()"
   ]
  },
  {
   "cell_type": "markdown",
   "metadata": {},
   "source": [
    "### Drop the data in columns not needed for analysis and also drop columns:"
   ]
  },
  {
   "cell_type": "markdown",
   "metadata": {},
   "source": [
    "  #### Define: \n",
    "  Drop data in the following columns from `df_archive` and also drop columns: \n",
    "  \n",
    "in_reply_to_status_id  \n",
    "in_reply_to_user_id   \n",
    "retweeted_status_id  \n",
    "retweeted_status_user_id  \n",
    "retweeted_status_timestamp "
   ]
  },
  {
   "cell_type": "markdown",
   "metadata": {},
   "source": [
    "### Code"
   ]
  },
  {
   "cell_type": "code",
   "execution_count": 53,
   "metadata": {},
   "outputs": [],
   "source": [
    "#exclude data\n",
    "df_archive_clean = df_archive_clean[df_archive_clean.in_reply_to_status_id.isnull()]\n",
    "df_archive_clean = df_archive_clean[df_archive_clean.in_reply_to_user_id.isnull()]\n",
    "df_archive_clean = df_archive_clean[df_archive_clean.retweeted_status_id.isnull()]\n",
    "df_archive_clean = df_archive_clean[df_archive_clean.retweeted_status_user_id.isnull()]\n",
    "df_archive_clean = df_archive_clean[df_archive_clean.retweeted_status_timestamp.isnull()]"
   ]
  },
  {
   "cell_type": "code",
   "execution_count": 54,
   "metadata": {},
   "outputs": [],
   "source": [
    "#drop columns\n",
    "df_archive_clean.drop(columns=[\"in_reply_to_status_id\", \"in_reply_to_user_id\", \"retweeted_status_id\", \"retweeted_status_user_id\", \"retweeted_status_timestamp\"], axis= 1, inplace= True)"
   ]
  },
  {
   "cell_type": "markdown",
   "metadata": {},
   "source": [
    "### Test"
   ]
  },
  {
   "cell_type": "code",
   "execution_count": 55,
   "metadata": {},
   "outputs": [
    {
     "name": "stdout",
     "output_type": "stream",
     "text": [
      "<class 'pandas.core.frame.DataFrame'>\n",
      "Int64Index: 2097 entries, 0 to 2355\n",
      "Data columns (total 9 columns):\n",
      " #   Column              Non-Null Count  Dtype              \n",
      "---  ------              --------------  -----              \n",
      " 0   tweet_id            2097 non-null   int64              \n",
      " 1   timestamp           2097 non-null   datetime64[ns, UTC]\n",
      " 2   source              2097 non-null   object             \n",
      " 3   text                2097 non-null   object             \n",
      " 4   expanded_urls       2094 non-null   object             \n",
      " 5   rating_numerator    2097 non-null   int64              \n",
      " 6   rating_denominator  2097 non-null   int64              \n",
      " 7   names               1411 non-null   object             \n",
      " 8   stage               336 non-null    object             \n",
      "dtypes: datetime64[ns, UTC](1), int64(3), object(5)\n",
      "memory usage: 163.8+ KB\n"
     ]
    }
   ],
   "source": [
    "#confirm columns have been dropped\n",
    "df_archive_clean.info()"
   ]
  },
  {
   "cell_type": "code",
   "execution_count": 56,
   "metadata": {},
   "outputs": [
    {
     "data": {
      "text/html": [
       "<div>\n",
       "<style scoped>\n",
       "    .dataframe tbody tr th:only-of-type {\n",
       "        vertical-align: middle;\n",
       "    }\n",
       "\n",
       "    .dataframe tbody tr th {\n",
       "        vertical-align: top;\n",
       "    }\n",
       "\n",
       "    .dataframe thead th {\n",
       "        text-align: right;\n",
       "    }\n",
       "</style>\n",
       "<table border=\"1\" class=\"dataframe\">\n",
       "  <thead>\n",
       "    <tr style=\"text-align: right;\">\n",
       "      <th></th>\n",
       "      <th>tweet_id</th>\n",
       "      <th>timestamp</th>\n",
       "      <th>source</th>\n",
       "      <th>text</th>\n",
       "      <th>expanded_urls</th>\n",
       "      <th>rating_numerator</th>\n",
       "      <th>rating_denominator</th>\n",
       "      <th>names</th>\n",
       "      <th>stage</th>\n",
       "    </tr>\n",
       "  </thead>\n",
       "  <tbody>\n",
       "    <tr>\n",
       "      <th>0</th>\n",
       "      <td>892420643555336193</td>\n",
       "      <td>2017-08-01 16:23:56+00:00</td>\n",
       "      <td>Twitter for iPhone</td>\n",
       "      <td>This is Phineas. He's a mystical boy. Only eve...</td>\n",
       "      <td>https://twitter.com/dog_rates/status/892420643...</td>\n",
       "      <td>13</td>\n",
       "      <td>10</td>\n",
       "      <td>Phineas</td>\n",
       "      <td>NaN</td>\n",
       "    </tr>\n",
       "    <tr>\n",
       "      <th>1</th>\n",
       "      <td>892177421306343426</td>\n",
       "      <td>2017-08-01 00:17:27+00:00</td>\n",
       "      <td>Twitter for iPhone</td>\n",
       "      <td>This is Tilly. She's just checking pup on you....</td>\n",
       "      <td>https://twitter.com/dog_rates/status/892177421...</td>\n",
       "      <td>13</td>\n",
       "      <td>10</td>\n",
       "      <td>Tilly</td>\n",
       "      <td>NaN</td>\n",
       "    </tr>\n",
       "  </tbody>\n",
       "</table>\n",
       "</div>"
      ],
      "text/plain": [
       "             tweet_id                 timestamp              source  \\\n",
       "0  892420643555336193 2017-08-01 16:23:56+00:00  Twitter for iPhone   \n",
       "1  892177421306343426 2017-08-01 00:17:27+00:00  Twitter for iPhone   \n",
       "\n",
       "                                                text  \\\n",
       "0  This is Phineas. He's a mystical boy. Only eve...   \n",
       "1  This is Tilly. She's just checking pup on you....   \n",
       "\n",
       "                                       expanded_urls  rating_numerator  \\\n",
       "0  https://twitter.com/dog_rates/status/892420643...                13   \n",
       "1  https://twitter.com/dog_rates/status/892177421...                13   \n",
       "\n",
       "   rating_denominator    names stage  \n",
       "0                  10  Phineas   NaN  \n",
       "1                  10    Tilly   NaN  "
      ]
     },
     "execution_count": 56,
     "metadata": {},
     "output_type": "execute_result"
    }
   ],
   "source": [
    "df_archive_clean.head(2)"
   ]
  },
  {
   "cell_type": "markdown",
   "metadata": {},
   "source": [
    "### Standardize case for dog breeds\n",
    "\n",
    "Define: Change all values in prediction_one, prediction_two and prediction_three to lowercase"
   ]
  },
  {
   "cell_type": "code",
   "execution_count": 57,
   "metadata": {},
   "outputs": [],
   "source": [
    "#change values to lowercase\n",
    "df_image_clean['prediction_one'] = df_image_clean.prediction_one.astype(str).str.lower()\n",
    "df_image_clean['prediction_two'] = df_image_clean.prediction_two.astype(str).str.lower()\n",
    "df_image_clean['prediction_three'] = df_image_clean.prediction_three.astype(str).str.lower()"
   ]
  },
  {
   "cell_type": "markdown",
   "metadata": {},
   "source": [
    "### Test"
   ]
  },
  {
   "cell_type": "code",
   "execution_count": 58,
   "metadata": {},
   "outputs": [
    {
     "data": {
      "text/plain": [
       "golden_retriever      150\n",
       "labrador_retriever    100\n",
       "pembroke               89\n",
       "chihuahua              83\n",
       "pug                    57\n",
       "                     ... \n",
       "teapot                  1\n",
       "syringe                 1\n",
       "mud_turtle              1\n",
       "damselfly               1\n",
       "sea_urchin              1\n",
       "Name: prediction_one, Length: 378, dtype: int64"
      ]
     },
     "execution_count": 58,
     "metadata": {},
     "output_type": "execute_result"
    }
   ],
   "source": [
    "#confirm values in prediction_one are lowercase\n",
    "df_image_clean.prediction_one.value_counts()"
   ]
  },
  {
   "cell_type": "code",
   "execution_count": 59,
   "metadata": {},
   "outputs": [
    {
     "data": {
      "text/plain": [
       "labrador_retriever    104\n",
       "golden_retriever       92\n",
       "cardigan               74\n",
       "chihuahua              44\n",
       "pomeranian             42\n",
       "                     ... \n",
       "chimpanzee              1\n",
       "shopping_cart           1\n",
       "toaster                 1\n",
       "madagascar_cat          1\n",
       "sulphur_butterfly       1\n",
       "Name: prediction_two, Length: 404, dtype: int64"
      ]
     },
     "execution_count": 59,
     "metadata": {},
     "output_type": "execute_result"
    }
   ],
   "source": [
    "#confirm values in prediction_two are lowercase\n",
    "df_image_clean.prediction_two.value_counts()"
   ]
  },
  {
   "cell_type": "code",
   "execution_count": 60,
   "metadata": {},
   "outputs": [
    {
     "data": {
      "text/plain": [
       "labrador_retriever    79\n",
       "chihuahua             58\n",
       "golden_retriever      48\n",
       "eskimo_dog            38\n",
       "kelpie                35\n",
       "                      ..\n",
       "bannister              1\n",
       "coffeepot              1\n",
       "mongoose               1\n",
       "conch                  1\n",
       "meerkat                1\n",
       "Name: prediction_three, Length: 408, dtype: int64"
      ]
     },
     "execution_count": 60,
     "metadata": {},
     "output_type": "execute_result"
    }
   ],
   "source": [
    "#confirm values in prediction_three are lowercase\n",
    "df_image_clean.prediction_three.value_counts()"
   ]
  },
  {
   "cell_type": "markdown",
   "metadata": {},
   "source": [
    "### Join Dataframes"
   ]
  },
  {
   "cell_type": "markdown",
   "metadata": {},
   "source": [
    "Define: Join dataframes on tweet_id\n",
    "\n",
    "\n",
    "### Code"
   ]
  },
  {
   "cell_type": "code",
   "execution_count": 61,
   "metadata": {},
   "outputs": [],
   "source": [
    "#merge archive dataframe and json dataframe\n",
    "df_archive_master = df_archive_clean.merge(df_json_clean, on= 'tweet_id', how= 'inner')"
   ]
  },
  {
   "cell_type": "code",
   "execution_count": 62,
   "metadata": {},
   "outputs": [],
   "source": [
    "#merge image prediction data with already merged dataframe\n",
    "df_archive_master = df_archive_master.merge(df_image_clean, on= 'tweet_id', how= 'inner')"
   ]
  },
  {
   "cell_type": "markdown",
   "metadata": {},
   "source": [
    "Since prediction one carries the highest confidence level, I will like to drop prediction two and three from the dataframe"
   ]
  },
  {
   "cell_type": "code",
   "execution_count": 63,
   "metadata": {},
   "outputs": [],
   "source": [
    "df_archive_master.drop(columns= ['prediction_two','prediction_two_is_dog','prediction_two_confidence','prediction_three',\n",
    "                                 'prediction_three_confidence','prediction_three_is_dog'], axis= 1, inplace= True)"
   ]
  },
  {
   "cell_type": "markdown",
   "metadata": {},
   "source": [
    "### Test"
   ]
  },
  {
   "cell_type": "code",
   "execution_count": 64,
   "metadata": {},
   "outputs": [
    {
     "data": {
      "text/html": [
       "<div>\n",
       "<style scoped>\n",
       "    .dataframe tbody tr th:only-of-type {\n",
       "        vertical-align: middle;\n",
       "    }\n",
       "\n",
       "    .dataframe tbody tr th {\n",
       "        vertical-align: top;\n",
       "    }\n",
       "\n",
       "    .dataframe thead th {\n",
       "        text-align: right;\n",
       "    }\n",
       "</style>\n",
       "<table border=\"1\" class=\"dataframe\">\n",
       "  <thead>\n",
       "    <tr style=\"text-align: right;\">\n",
       "      <th></th>\n",
       "      <th>tweet_id</th>\n",
       "      <th>timestamp</th>\n",
       "      <th>source</th>\n",
       "      <th>text</th>\n",
       "      <th>expanded_urls</th>\n",
       "      <th>rating_numerator</th>\n",
       "      <th>rating_denominator</th>\n",
       "      <th>names</th>\n",
       "      <th>stage</th>\n",
       "      <th>retweet_count</th>\n",
       "      <th>favorite_count</th>\n",
       "      <th>jpg_url</th>\n",
       "      <th>img_num</th>\n",
       "      <th>prediction_one</th>\n",
       "      <th>prediction_one_confidence</th>\n",
       "      <th>prediction_one_is_dog</th>\n",
       "    </tr>\n",
       "  </thead>\n",
       "  <tbody>\n",
       "    <tr>\n",
       "      <th>0</th>\n",
       "      <td>892420643555336193</td>\n",
       "      <td>2017-08-01 16:23:56+00:00</td>\n",
       "      <td>Twitter for iPhone</td>\n",
       "      <td>This is Phineas. He's a mystical boy. Only eve...</td>\n",
       "      <td>https://twitter.com/dog_rates/status/892420643...</td>\n",
       "      <td>13</td>\n",
       "      <td>10</td>\n",
       "      <td>Phineas</td>\n",
       "      <td>NaN</td>\n",
       "      <td>6981</td>\n",
       "      <td>33737</td>\n",
       "      <td>https://pbs.twimg.com/media/DGKD1-bXoAAIAUK.jpg</td>\n",
       "      <td>1</td>\n",
       "      <td>orange</td>\n",
       "      <td>0.097049</td>\n",
       "      <td>False</td>\n",
       "    </tr>\n",
       "    <tr>\n",
       "      <th>1</th>\n",
       "      <td>892177421306343426</td>\n",
       "      <td>2017-08-01 00:17:27+00:00</td>\n",
       "      <td>Twitter for iPhone</td>\n",
       "      <td>This is Tilly. She's just checking pup on you....</td>\n",
       "      <td>https://twitter.com/dog_rates/status/892177421...</td>\n",
       "      <td>13</td>\n",
       "      <td>10</td>\n",
       "      <td>Tilly</td>\n",
       "      <td>NaN</td>\n",
       "      <td>5284</td>\n",
       "      <td>29265</td>\n",
       "      <td>https://pbs.twimg.com/media/DGGmoV4XsAAUL6n.jpg</td>\n",
       "      <td>1</td>\n",
       "      <td>chihuahua</td>\n",
       "      <td>0.323581</td>\n",
       "      <td>True</td>\n",
       "    </tr>\n",
       "    <tr>\n",
       "      <th>2</th>\n",
       "      <td>891815181378084864</td>\n",
       "      <td>2017-07-31 00:18:03+00:00</td>\n",
       "      <td>Twitter for iPhone</td>\n",
       "      <td>This is Archie. He is a rare Norwegian Pouncin...</td>\n",
       "      <td>https://twitter.com/dog_rates/status/891815181...</td>\n",
       "      <td>12</td>\n",
       "      <td>10</td>\n",
       "      <td>Archie</td>\n",
       "      <td>NaN</td>\n",
       "      <td>3468</td>\n",
       "      <td>22000</td>\n",
       "      <td>https://pbs.twimg.com/media/DGBdLU1WsAANxJ9.jpg</td>\n",
       "      <td>1</td>\n",
       "      <td>chihuahua</td>\n",
       "      <td>0.716012</td>\n",
       "      <td>True</td>\n",
       "    </tr>\n",
       "  </tbody>\n",
       "</table>\n",
       "</div>"
      ],
      "text/plain": [
       "             tweet_id                 timestamp              source  \\\n",
       "0  892420643555336193 2017-08-01 16:23:56+00:00  Twitter for iPhone   \n",
       "1  892177421306343426 2017-08-01 00:17:27+00:00  Twitter for iPhone   \n",
       "2  891815181378084864 2017-07-31 00:18:03+00:00  Twitter for iPhone   \n",
       "\n",
       "                                                text  \\\n",
       "0  This is Phineas. He's a mystical boy. Only eve...   \n",
       "1  This is Tilly. She's just checking pup on you....   \n",
       "2  This is Archie. He is a rare Norwegian Pouncin...   \n",
       "\n",
       "                                       expanded_urls  rating_numerator  \\\n",
       "0  https://twitter.com/dog_rates/status/892420643...                13   \n",
       "1  https://twitter.com/dog_rates/status/892177421...                13   \n",
       "2  https://twitter.com/dog_rates/status/891815181...                12   \n",
       "\n",
       "   rating_denominator    names stage  retweet_count  favorite_count  \\\n",
       "0                  10  Phineas   NaN           6981           33737   \n",
       "1                  10    Tilly   NaN           5284           29265   \n",
       "2                  10   Archie   NaN           3468           22000   \n",
       "\n",
       "                                           jpg_url  img_num prediction_one  \\\n",
       "0  https://pbs.twimg.com/media/DGKD1-bXoAAIAUK.jpg        1         orange   \n",
       "1  https://pbs.twimg.com/media/DGGmoV4XsAAUL6n.jpg        1      chihuahua   \n",
       "2  https://pbs.twimg.com/media/DGBdLU1WsAANxJ9.jpg        1      chihuahua   \n",
       "\n",
       "   prediction_one_confidence  prediction_one_is_dog  \n",
       "0                   0.097049                  False  \n",
       "1                   0.323581                   True  \n",
       "2                   0.716012                   True  "
      ]
     },
     "execution_count": 64,
     "metadata": {},
     "output_type": "execute_result"
    }
   ],
   "source": [
    "#confirm data has been merged correctly\n",
    "df_archive_master.head(3)"
   ]
  },
  {
   "cell_type": "code",
   "execution_count": 65,
   "metadata": {},
   "outputs": [
    {
     "name": "stdout",
     "output_type": "stream",
     "text": [
      "<class 'pandas.core.frame.DataFrame'>\n",
      "Int64Index: 1963 entries, 0 to 1962\n",
      "Data columns (total 16 columns):\n",
      " #   Column                     Non-Null Count  Dtype              \n",
      "---  ------                     --------------  -----              \n",
      " 0   tweet_id                   1963 non-null   int64              \n",
      " 1   timestamp                  1963 non-null   datetime64[ns, UTC]\n",
      " 2   source                     1963 non-null   object             \n",
      " 3   text                       1963 non-null   object             \n",
      " 4   expanded_urls              1963 non-null   object             \n",
      " 5   rating_numerator           1963 non-null   int64              \n",
      " 6   rating_denominator         1963 non-null   int64              \n",
      " 7   names                      1362 non-null   object             \n",
      " 8   stage                      302 non-null    object             \n",
      " 9   retweet_count              1963 non-null   int64              \n",
      " 10  favorite_count             1963 non-null   int64              \n",
      " 11  jpg_url                    1963 non-null   object             \n",
      " 12  img_num                    1963 non-null   int64              \n",
      " 13  prediction_one             1963 non-null   object             \n",
      " 14  prediction_one_confidence  1963 non-null   float64            \n",
      " 15  prediction_one_is_dog      1963 non-null   bool               \n",
      "dtypes: bool(1), datetime64[ns, UTC](1), float64(1), int64(6), object(7)\n",
      "memory usage: 247.3+ KB\n"
     ]
    }
   ],
   "source": [
    "#check master dataframe structure\n",
    "df_archive_master.info()"
   ]
  },
  {
   "cell_type": "code",
   "execution_count": 66,
   "metadata": {},
   "outputs": [
    {
     "data": {
      "text/plain": [
       "0"
      ]
     },
     "execution_count": 66,
     "metadata": {},
     "output_type": "execute_result"
    }
   ],
   "source": [
    "#confirm there are no duplicates in the merged data\n",
    "df_archive_master.duplicated().sum()"
   ]
  },
  {
   "cell_type": "markdown",
   "metadata": {},
   "source": [
    "<a id='SD'></a>\n",
    "## Storing Data\n",
    "Save gathered, assessed, and cleaned master dataset to a CSV file named \"twitter_archive_master.csv\"."
   ]
  },
  {
   "cell_type": "code",
   "execution_count": 67,
   "metadata": {},
   "outputs": [],
   "source": [
    "#save data to csv file\n",
    "df_archive_master.to_csv('twitter_archive_master.csv', index= False)\n",
    "df_image_clean.to_csv('image_prediction.csv', index= False)"
   ]
  },
  {
   "cell_type": "markdown",
   "metadata": {},
   "source": [
    "<a id='AV'></a>\n",
    "## Analyzing and Visualizing Data"
   ]
  },
  {
   "cell_type": "markdown",
   "metadata": {},
   "source": [
    "### Insights:\n",
    "1. Most common tweet source\n",
    "\n",
    "2. Most popular tweets, highest retweets and highest likes\n",
    "\n",
    "3. Popular dog breed predictions\n",
    "\n",
    "4. Highest rating ever"
   ]
  },
  {
   "cell_type": "markdown",
   "metadata": {},
   "source": [
    "### **Most common tweet source**"
   ]
  },
  {
   "cell_type": "code",
   "execution_count": 68,
   "metadata": {},
   "outputs": [
    {
     "data": {
      "text/plain": [
       "Twitter for iPhone    1925\n",
       "Twitter Web Client      28\n",
       "TweetDeck               10\n",
       "Name: source, dtype: int64"
      ]
     },
     "execution_count": 68,
     "metadata": {},
     "output_type": "execute_result"
    }
   ],
   "source": [
    "#count number of sources\n",
    "df_archive_master.source.value_counts()"
   ]
  },
  {
   "cell_type": "code",
   "execution_count": 69,
   "metadata": {},
   "outputs": [
    {
     "data": {
      "text/plain": [
       "Text(0.5, 1.0, 'Percentage distribution of Tweet sources')"
      ]
     },
     "execution_count": 69,
     "metadata": {},
     "output_type": "execute_result"
    },
    {
     "data": {
      "image/png": "[encoded data removed]",
      "text/plain": [
       "<Figure size 720x720 with 1 Axes>"
      ]
     },
     "metadata": {},
     "output_type": "display_data"
    }
   ],
   "source": [
    "#plot distribution of sources on a pie chart\n",
    "df_archive_master.source.value_counts().plot(kind= 'pie',autopct= '%.0f%%', figsize= (10,10), labels= ['Twitter for iphone',\n",
    "                                                                                                    'Vine - Make a scene','Twitter Web Client','TweetDeck'])\n",
    "plt.ylabel(\"\")\n",
    "plt.legend()\n",
    "plt.title('Percentage distribution of Tweet sources', fontsize= 15)"
   ]
  },
  {
   "cell_type": "markdown",
   "metadata": {},
   "source": [
    "### **Most popular tweet (Likes and retweets)**"
   ]
  },
  {
   "cell_type": "code",
   "execution_count": 70,
   "metadata": {},
   "outputs": [
    {
     "data": {
      "text/plain": [
       "70474"
      ]
     },
     "execution_count": 70,
     "metadata": {},
     "output_type": "execute_result"
    }
   ],
   "source": [
    "#Get maximum retweet count\n",
    "df_archive_master.retweet_count.max()"
   ]
  },
  {
   "cell_type": "code",
   "execution_count": 71,
   "metadata": {},
   "outputs": [
    {
     "data": {
      "text/html": [
       "<div>\n",
       "<style scoped>\n",
       "    .dataframe tbody tr th:only-of-type {\n",
       "        vertical-align: middle;\n",
       "    }\n",
       "\n",
       "    .dataframe tbody tr th {\n",
       "        vertical-align: top;\n",
       "    }\n",
       "\n",
       "    .dataframe thead th {\n",
       "        text-align: right;\n",
       "    }\n",
       "</style>\n",
       "<table border=\"1\" class=\"dataframe\">\n",
       "  <thead>\n",
       "    <tr style=\"text-align: right;\">\n",
       "      <th></th>\n",
       "      <th>tweet_id</th>\n",
       "      <th>timestamp</th>\n",
       "      <th>source</th>\n",
       "      <th>text</th>\n",
       "      <th>expanded_urls</th>\n",
       "      <th>rating_numerator</th>\n",
       "      <th>rating_denominator</th>\n",
       "      <th>names</th>\n",
       "      <th>stage</th>\n",
       "      <th>retweet_count</th>\n",
       "      <th>favorite_count</th>\n",
       "      <th>jpg_url</th>\n",
       "      <th>img_num</th>\n",
       "      <th>prediction_one</th>\n",
       "      <th>prediction_one_confidence</th>\n",
       "      <th>prediction_one_is_dog</th>\n",
       "    </tr>\n",
       "  </thead>\n",
       "  <tbody>\n",
       "    <tr>\n",
       "      <th>762</th>\n",
       "      <td>744234799360020481</td>\n",
       "      <td>2016-06-18 18:26:18+00:00</td>\n",
       "      <td>Twitter for iPhone</td>\n",
       "      <td>Here's a doggo realizing you can stand in a po...</td>\n",
       "      <td>https://twitter.com/dog_rates/status/744234799...</td>\n",
       "      <td>13</td>\n",
       "      <td>10</td>\n",
       "      <td>NaN</td>\n",
       "      <td>doggo</td>\n",
       "      <td>70474</td>\n",
       "      <td>144484</td>\n",
       "      <td>https://pbs.twimg.com/ext_tw_video_thumb/74423...</td>\n",
       "      <td>1</td>\n",
       "      <td>labrador_retriever</td>\n",
       "      <td>0.825333</td>\n",
       "      <td>True</td>\n",
       "    </tr>\n",
       "  </tbody>\n",
       "</table>\n",
       "</div>"
      ],
      "text/plain": [
       "               tweet_id                 timestamp              source  \\\n",
       "762  744234799360020481 2016-06-18 18:26:18+00:00  Twitter for iPhone   \n",
       "\n",
       "                                                  text  \\\n",
       "762  Here's a doggo realizing you can stand in a po...   \n",
       "\n",
       "                                         expanded_urls  rating_numerator  \\\n",
       "762  https://twitter.com/dog_rates/status/744234799...                13   \n",
       "\n",
       "     rating_denominator names  stage  retweet_count  favorite_count  \\\n",
       "762                  10   NaN  doggo          70474          144484   \n",
       "\n",
       "                                               jpg_url  img_num  \\\n",
       "762  https://pbs.twimg.com/ext_tw_video_thumb/74423...        1   \n",
       "\n",
       "         prediction_one  prediction_one_confidence  prediction_one_is_dog  \n",
       "762  labrador_retriever                   0.825333                   True  "
      ]
     },
     "execution_count": 71,
     "metadata": {},
     "output_type": "execute_result"
    }
   ],
   "source": [
    "#Get observation with highest retweet count\n",
    "max_retweet = df_archive_master[df_archive_master.retweet_count == 70474]\n",
    "max_retweet"
   ]
  },
  {
   "cell_type": "code",
   "execution_count": 72,
   "metadata": {},
   "outputs": [
    {
     "data": {
      "text/plain": [
       "144484"
      ]
     },
     "execution_count": 72,
     "metadata": {},
     "output_type": "execute_result"
    }
   ],
   "source": [
    "#check highest favorite count\n",
    "df_archive_master.favorite_count.max()"
   ]
  },
  {
   "cell_type": "markdown",
   "metadata": {},
   "source": [
    "**No suprise the tweet with the highest retweets also happens to be the most liked** "
   ]
  },
  {
   "cell_type": "markdown",
   "metadata": {},
   "source": [
    "### Popular dog breed predictions"
   ]
  },
  {
   "cell_type": "code",
   "execution_count": 73,
   "metadata": {},
   "outputs": [
    {
     "data": {
      "image/png": "[encoded data removed]",
      "text/plain": [
       "<Figure size 576x576 with 1 Axes>"
      ]
     },
     "metadata": {
      "needs_background": "light"
     },
     "output_type": "display_data"
    }
   ],
   "source": [
    "# set column to be visualized\n",
    "pred = df_archive_master.prediction_one\n",
    " \n",
    "comment_words = ''\n",
    "stopwords = set(STOPWORDS)\n",
    " \n",
    "# iterate through the column\n",
    "for val in pred:\n",
    "     \n",
    "    # ensure each val is string and split \n",
    "    val = str(val)\n",
    "    val = val.split()\n",
    "     \n",
    "    comment_words += \" \".join(val)+\" \"\n",
    " \n",
    "wordcloud = WordCloud(width = 800, height = 800,\n",
    "                background_color ='black',\n",
    "                stopwords = stopwords,\n",
    "                min_font_size = 10).generate(comment_words)\n",
    " \n",
    "# plot the WordCloud image                      \n",
    "plt.figure(figsize = (8, 8), facecolor = None)\n",
    "plt.imshow(wordcloud)\n",
    "plt.axis(\"off\")\n",
    "plt.tight_layout(pad = 0)\n",
    "plt.title('Popular dog breed predictions', fontsize= 15)\n",
    " \n",
    "plt.show()"
   ]
  },
  {
   "cell_type": "code",
   "execution_count": 74,
   "metadata": {},
   "outputs": [
    {
     "data": {
      "text/plain": [
       "1776"
      ]
     },
     "execution_count": 74,
     "metadata": {},
     "output_type": "execute_result"
    }
   ],
   "source": [
    "#Get highest rating \n",
    "df_archive_master.rating_numerator.max()"
   ]
  },
  {
   "cell_type": "code",
   "execution_count": 75,
   "metadata": {},
   "outputs": [
    {
     "data": {
      "text/html": [
       "<div>\n",
       "<style scoped>\n",
       "    .dataframe tbody tr th:only-of-type {\n",
       "        vertical-align: middle;\n",
       "    }\n",
       "\n",
       "    .dataframe tbody tr th {\n",
       "        vertical-align: top;\n",
       "    }\n",
       "\n",
       "    .dataframe thead th {\n",
       "        text-align: right;\n",
       "    }\n",
       "</style>\n",
       "<table border=\"1\" class=\"dataframe\">\n",
       "  <thead>\n",
       "    <tr style=\"text-align: right;\">\n",
       "      <th></th>\n",
       "      <th>tweet_id</th>\n",
       "      <th>timestamp</th>\n",
       "      <th>source</th>\n",
       "      <th>text</th>\n",
       "      <th>expanded_urls</th>\n",
       "      <th>rating_numerator</th>\n",
       "      <th>rating_denominator</th>\n",
       "      <th>names</th>\n",
       "      <th>stage</th>\n",
       "      <th>retweet_count</th>\n",
       "      <th>favorite_count</th>\n",
       "      <th>jpg_url</th>\n",
       "      <th>img_num</th>\n",
       "      <th>prediction_one</th>\n",
       "      <th>prediction_one_confidence</th>\n",
       "      <th>prediction_one_is_dog</th>\n",
       "    </tr>\n",
       "  </thead>\n",
       "  <tbody>\n",
       "    <tr>\n",
       "      <th>715</th>\n",
       "      <td>749981277374128128</td>\n",
       "      <td>2016-07-04 15:00:45+00:00</td>\n",
       "      <td>TweetDeck</td>\n",
       "      <td>This is Atticus. He's quite simply America af....</td>\n",
       "      <td>https://twitter.com/dog_rates/status/749981277...</td>\n",
       "      <td>1776</td>\n",
       "      <td>10</td>\n",
       "      <td>Atticus</td>\n",
       "      <td>NaN</td>\n",
       "      <td>2272</td>\n",
       "      <td>4772</td>\n",
       "      <td>https://pbs.twimg.com/media/CmgBZ7kWcAAlzFD.jpg</td>\n",
       "      <td>1</td>\n",
       "      <td>bow_tie</td>\n",
       "      <td>0.533941</td>\n",
       "      <td>False</td>\n",
       "    </tr>\n",
       "  </tbody>\n",
       "</table>\n",
       "</div>"
      ],
      "text/plain": [
       "               tweet_id                 timestamp     source  \\\n",
       "715  749981277374128128 2016-07-04 15:00:45+00:00  TweetDeck   \n",
       "\n",
       "                                                  text  \\\n",
       "715  This is Atticus. He's quite simply America af....   \n",
       "\n",
       "                                         expanded_urls  rating_numerator  \\\n",
       "715  https://twitter.com/dog_rates/status/749981277...              1776   \n",
       "\n",
       "     rating_denominator    names stage  retweet_count  favorite_count  \\\n",
       "715                  10  Atticus   NaN           2272            4772   \n",
       "\n",
       "                                             jpg_url  img_num prediction_one  \\\n",
       "715  https://pbs.twimg.com/media/CmgBZ7kWcAAlzFD.jpg        1        bow_tie   \n",
       "\n",
       "     prediction_one_confidence  prediction_one_is_dog  \n",
       "715                   0.533941                  False  "
      ]
     },
     "execution_count": 75,
     "metadata": {},
     "output_type": "execute_result"
    }
   ],
   "source": [
    "#Get observation with highest rating\n",
    "highest_rating = df_archive_master[df_archive_master.rating_numerator == 1776]\n",
    "highest_rating"
   ]
  }
 ],
 "metadata": {
  "extensions": {
   "jupyter_dashboards": {
    "activeView": "report_default",
    "version": 1,
    "views": {
     "grid_default": {
      "cellMargin": 10,
      "defaultCellHeight": 20,
      "maxColumns": 12,
      "name": "grid",
      "type": "grid"
     },
     "report_default": {
      "name": "report",
      "type": "report"
     }
    }
   }
  },
  "kernelspec": {
   "display_name": "Python 3",
   "language": "python",
   "name": "python3"
  },
  "language_info": {
   "codemirror_mode": {
    "name": "ipython",
    "version": 3
   },
   "file_extension": ".py",
   "mimetype": "text/x-python",
   "name": "python",
   "nbconvert_exporter": "python",
   "pygments_lexer": "ipython3",
   "version": "3.6.13"
  }
 },
 "nbformat": 4,
 "nbformat_minor": 2
}
